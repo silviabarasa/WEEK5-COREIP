{
  "nbformat": 4,
  "nbformat_minor": 0,
  "metadata": {
    "colab": {
      "name": "Moringa_Data_Science_Prep_W5_GroupProject_2021_05_DrugAnalytica_Project.ipynb",
      "provenance": [],
      "collapsed_sections": [],
      "toc_visible": true,
      "include_colab_link": true
    },
    "kernelspec": {
      "name": "python3",
      "display_name": "Python 3"
    },
    "language_info": {
      "name": "python"
    }
  },
  "cells": [
    {
      "cell_type": "markdown",
      "metadata": {
        "id": "view-in-github",
        "colab_type": "text"
      },
      "source": [
        "<a href=\"https://colab.research.google.com/github/silviabarasa/week5ip/blob/main/Moringa_Data_Science_Prep_W5_GroupProject_2021_05_DrugAnalytica_Project.ipynb\" target=\"_parent\"><img src=\"https://colab.research.google.com/assets/colab-badge.svg\" alt=\"Open In Colab\"/></a>"
      ]
    },
    {
      "cell_type": "markdown",
      "metadata": {
        "id": "i05h30Z0YS8e"
      },
      "source": [
        "#DRUG USAGE ANALYSIS\n",
        "#Objectives\n",
        "##Main Objective\n",
        "- Analysing the trends of drug abuse among the various age groups, countries, gender, education levels and ethnicity. \n",
        "##Other objectives\n",
        "- Determining the age group with the highest rate of drug/substance abuse.\n",
        "- Finding out the age group with the lowest rate of drug/substance abuse. \n",
        "- Establishing the most used drug.\n",
        "- Determining the most used drug among the gender groups, countries, education levels and ethnicity.\n",
        "#Datasets\n",
        "- Dataset [link text](https://archive.ics.uci.edu/ml/machine-learning-databases/00373/drug_consumption.data)\n",
        "- Data Description[link text](https://archive.ics.uci.edu/ml/datasets/Drug+consumption+%28quantified%29)"
      ]
    },
    {
      "cell_type": "markdown",
      "metadata": {
        "id": "pB0M1JDSWA1f"
      },
      "source": [
        "#1. Importing the required libraries"
      ]
    },
    {
      "cell_type": "code",
      "metadata": {
        "id": "MhKyQBf52tZw"
      },
      "source": [
        "#Importing the required libraries\n",
        "import pandas as pd\n",
        "import numpy as np"
      ],
      "execution_count": null,
      "outputs": []
    },
    {
      "cell_type": "markdown",
      "metadata": {
        "id": "6bJPIRypWKcr"
      },
      "source": [
        "#2. Loading our dataset"
      ]
    },
    {
      "cell_type": "code",
      "metadata": {
        "colab": {
          "base_uri": "https://localhost:8080/",
          "height": 456
        },
        "id": "Qp9udUKoEp3M",
        "outputId": "b4424b21-0bb5-4989-dfe2-dcec9ed30b87"
      },
      "source": [
        "#We will load our dataset to our environment\n",
        "#We will also assign column names to our data\n",
        "header_list = ['ID', 'Age', 'Gender', 'Education', 'Country', 'Ethnicity', 'Nscore', 'Escore', 'Oscore', 'Ascore', 'Cscore', 'Impulsive', 'SS', 'Alcohol', 'Amphetamines', ' Amyl', ' Benzos', ' caffeine', 'Cannabis', 'chocolate ', ' cocaine', ' Crack', 'Ecstasy', ' Heroin', ' Ketamine', ' legal highs', ' LSD ', 'methadone', 'Mushrooms', 'Nicotine', 'Semer', ' Volatile']\n",
        "df = pd.read_csv('https://archive.ics.uci.edu/ml/machine-learning-databases/00373/drug_consumption.data'\n",
        ", names=header_list)\n",
        "df\n"
      ],
      "execution_count": null,
      "outputs": [
        {
          "output_type": "execute_result",
          "data": {
            "text/html": [
              "<div>\n",
              "<style scoped>\n",
              "    .dataframe tbody tr th:only-of-type {\n",
              "        vertical-align: middle;\n",
              "    }\n",
              "\n",
              "    .dataframe tbody tr th {\n",
              "        vertical-align: top;\n",
              "    }\n",
              "\n",
              "    .dataframe thead th {\n",
              "        text-align: right;\n",
              "    }\n",
              "</style>\n",
              "<table border=\"1\" class=\"dataframe\">\n",
              "  <thead>\n",
              "    <tr style=\"text-align: right;\">\n",
              "      <th></th>\n",
              "      <th>ID</th>\n",
              "      <th>Age</th>\n",
              "      <th>Gender</th>\n",
              "      <th>Education</th>\n",
              "      <th>Country</th>\n",
              "      <th>Ethnicity</th>\n",
              "      <th>Nscore</th>\n",
              "      <th>Escore</th>\n",
              "      <th>Oscore</th>\n",
              "      <th>Ascore</th>\n",
              "      <th>Cscore</th>\n",
              "      <th>Impulsive</th>\n",
              "      <th>SS</th>\n",
              "      <th>Alcohol</th>\n",
              "      <th>Amphetamines</th>\n",
              "      <th>Amyl</th>\n",
              "      <th>Benzos</th>\n",
              "      <th>caffeine</th>\n",
              "      <th>Cannabis</th>\n",
              "      <th>chocolate</th>\n",
              "      <th>cocaine</th>\n",
              "      <th>Crack</th>\n",
              "      <th>Ecstasy</th>\n",
              "      <th>Heroin</th>\n",
              "      <th>Ketamine</th>\n",
              "      <th>legal highs</th>\n",
              "      <th>LSD</th>\n",
              "      <th>methadone</th>\n",
              "      <th>Mushrooms</th>\n",
              "      <th>Nicotine</th>\n",
              "      <th>Semer</th>\n",
              "      <th>Volatile</th>\n",
              "    </tr>\n",
              "  </thead>\n",
              "  <tbody>\n",
              "    <tr>\n",
              "      <th>0</th>\n",
              "      <td>1</td>\n",
              "      <td>0.49788</td>\n",
              "      <td>0.48246</td>\n",
              "      <td>-0.05921</td>\n",
              "      <td>0.96082</td>\n",
              "      <td>0.12600</td>\n",
              "      <td>0.31287</td>\n",
              "      <td>-0.57545</td>\n",
              "      <td>-0.58331</td>\n",
              "      <td>-0.91699</td>\n",
              "      <td>-0.00665</td>\n",
              "      <td>-0.21712</td>\n",
              "      <td>-1.18084</td>\n",
              "      <td>CL5</td>\n",
              "      <td>CL2</td>\n",
              "      <td>CL0</td>\n",
              "      <td>CL2</td>\n",
              "      <td>CL6</td>\n",
              "      <td>CL0</td>\n",
              "      <td>CL5</td>\n",
              "      <td>CL0</td>\n",
              "      <td>CL0</td>\n",
              "      <td>CL0</td>\n",
              "      <td>CL0</td>\n",
              "      <td>CL0</td>\n",
              "      <td>CL0</td>\n",
              "      <td>CL0</td>\n",
              "      <td>CL0</td>\n",
              "      <td>CL0</td>\n",
              "      <td>CL2</td>\n",
              "      <td>CL0</td>\n",
              "      <td>CL0</td>\n",
              "    </tr>\n",
              "    <tr>\n",
              "      <th>1</th>\n",
              "      <td>2</td>\n",
              "      <td>-0.07854</td>\n",
              "      <td>-0.48246</td>\n",
              "      <td>1.98437</td>\n",
              "      <td>0.96082</td>\n",
              "      <td>-0.31685</td>\n",
              "      <td>-0.67825</td>\n",
              "      <td>1.93886</td>\n",
              "      <td>1.43533</td>\n",
              "      <td>0.76096</td>\n",
              "      <td>-0.14277</td>\n",
              "      <td>-0.71126</td>\n",
              "      <td>-0.21575</td>\n",
              "      <td>CL5</td>\n",
              "      <td>CL2</td>\n",
              "      <td>CL2</td>\n",
              "      <td>CL0</td>\n",
              "      <td>CL6</td>\n",
              "      <td>CL4</td>\n",
              "      <td>CL6</td>\n",
              "      <td>CL3</td>\n",
              "      <td>CL0</td>\n",
              "      <td>CL4</td>\n",
              "      <td>CL0</td>\n",
              "      <td>CL2</td>\n",
              "      <td>CL0</td>\n",
              "      <td>CL2</td>\n",
              "      <td>CL3</td>\n",
              "      <td>CL0</td>\n",
              "      <td>CL4</td>\n",
              "      <td>CL0</td>\n",
              "      <td>CL0</td>\n",
              "    </tr>\n",
              "    <tr>\n",
              "      <th>2</th>\n",
              "      <td>3</td>\n",
              "      <td>0.49788</td>\n",
              "      <td>-0.48246</td>\n",
              "      <td>-0.05921</td>\n",
              "      <td>0.96082</td>\n",
              "      <td>-0.31685</td>\n",
              "      <td>-0.46725</td>\n",
              "      <td>0.80523</td>\n",
              "      <td>-0.84732</td>\n",
              "      <td>-1.62090</td>\n",
              "      <td>-1.01450</td>\n",
              "      <td>-1.37983</td>\n",
              "      <td>0.40148</td>\n",
              "      <td>CL6</td>\n",
              "      <td>CL0</td>\n",
              "      <td>CL0</td>\n",
              "      <td>CL0</td>\n",
              "      <td>CL6</td>\n",
              "      <td>CL3</td>\n",
              "      <td>CL4</td>\n",
              "      <td>CL0</td>\n",
              "      <td>CL0</td>\n",
              "      <td>CL0</td>\n",
              "      <td>CL0</td>\n",
              "      <td>CL0</td>\n",
              "      <td>CL0</td>\n",
              "      <td>CL0</td>\n",
              "      <td>CL0</td>\n",
              "      <td>CL1</td>\n",
              "      <td>CL0</td>\n",
              "      <td>CL0</td>\n",
              "      <td>CL0</td>\n",
              "    </tr>\n",
              "    <tr>\n",
              "      <th>3</th>\n",
              "      <td>4</td>\n",
              "      <td>-0.95197</td>\n",
              "      <td>0.48246</td>\n",
              "      <td>1.16365</td>\n",
              "      <td>0.96082</td>\n",
              "      <td>-0.31685</td>\n",
              "      <td>-0.14882</td>\n",
              "      <td>-0.80615</td>\n",
              "      <td>-0.01928</td>\n",
              "      <td>0.59042</td>\n",
              "      <td>0.58489</td>\n",
              "      <td>-1.37983</td>\n",
              "      <td>-1.18084</td>\n",
              "      <td>CL4</td>\n",
              "      <td>CL0</td>\n",
              "      <td>CL0</td>\n",
              "      <td>CL3</td>\n",
              "      <td>CL5</td>\n",
              "      <td>CL2</td>\n",
              "      <td>CL4</td>\n",
              "      <td>CL2</td>\n",
              "      <td>CL0</td>\n",
              "      <td>CL0</td>\n",
              "      <td>CL0</td>\n",
              "      <td>CL2</td>\n",
              "      <td>CL0</td>\n",
              "      <td>CL0</td>\n",
              "      <td>CL0</td>\n",
              "      <td>CL0</td>\n",
              "      <td>CL2</td>\n",
              "      <td>CL0</td>\n",
              "      <td>CL0</td>\n",
              "    </tr>\n",
              "    <tr>\n",
              "      <th>4</th>\n",
              "      <td>5</td>\n",
              "      <td>0.49788</td>\n",
              "      <td>0.48246</td>\n",
              "      <td>1.98437</td>\n",
              "      <td>0.96082</td>\n",
              "      <td>-0.31685</td>\n",
              "      <td>0.73545</td>\n",
              "      <td>-1.63340</td>\n",
              "      <td>-0.45174</td>\n",
              "      <td>-0.30172</td>\n",
              "      <td>1.30612</td>\n",
              "      <td>-0.21712</td>\n",
              "      <td>-0.21575</td>\n",
              "      <td>CL4</td>\n",
              "      <td>CL1</td>\n",
              "      <td>CL1</td>\n",
              "      <td>CL0</td>\n",
              "      <td>CL6</td>\n",
              "      <td>CL3</td>\n",
              "      <td>CL6</td>\n",
              "      <td>CL0</td>\n",
              "      <td>CL0</td>\n",
              "      <td>CL1</td>\n",
              "      <td>CL0</td>\n",
              "      <td>CL0</td>\n",
              "      <td>CL1</td>\n",
              "      <td>CL0</td>\n",
              "      <td>CL0</td>\n",
              "      <td>CL2</td>\n",
              "      <td>CL2</td>\n",
              "      <td>CL0</td>\n",
              "      <td>CL0</td>\n",
              "    </tr>\n",
              "    <tr>\n",
              "      <th>...</th>\n",
              "      <td>...</td>\n",
              "      <td>...</td>\n",
              "      <td>...</td>\n",
              "      <td>...</td>\n",
              "      <td>...</td>\n",
              "      <td>...</td>\n",
              "      <td>...</td>\n",
              "      <td>...</td>\n",
              "      <td>...</td>\n",
              "      <td>...</td>\n",
              "      <td>...</td>\n",
              "      <td>...</td>\n",
              "      <td>...</td>\n",
              "      <td>...</td>\n",
              "      <td>...</td>\n",
              "      <td>...</td>\n",
              "      <td>...</td>\n",
              "      <td>...</td>\n",
              "      <td>...</td>\n",
              "      <td>...</td>\n",
              "      <td>...</td>\n",
              "      <td>...</td>\n",
              "      <td>...</td>\n",
              "      <td>...</td>\n",
              "      <td>...</td>\n",
              "      <td>...</td>\n",
              "      <td>...</td>\n",
              "      <td>...</td>\n",
              "      <td>...</td>\n",
              "      <td>...</td>\n",
              "      <td>...</td>\n",
              "      <td>...</td>\n",
              "    </tr>\n",
              "    <tr>\n",
              "      <th>1880</th>\n",
              "      <td>1884</td>\n",
              "      <td>-0.95197</td>\n",
              "      <td>0.48246</td>\n",
              "      <td>-0.61113</td>\n",
              "      <td>-0.57009</td>\n",
              "      <td>-0.31685</td>\n",
              "      <td>-1.19430</td>\n",
              "      <td>1.74091</td>\n",
              "      <td>1.88511</td>\n",
              "      <td>0.76096</td>\n",
              "      <td>-1.13788</td>\n",
              "      <td>0.88113</td>\n",
              "      <td>1.92173</td>\n",
              "      <td>CL5</td>\n",
              "      <td>CL0</td>\n",
              "      <td>CL0</td>\n",
              "      <td>CL0</td>\n",
              "      <td>CL4</td>\n",
              "      <td>CL5</td>\n",
              "      <td>CL4</td>\n",
              "      <td>CL0</td>\n",
              "      <td>CL0</td>\n",
              "      <td>CL0</td>\n",
              "      <td>CL0</td>\n",
              "      <td>CL0</td>\n",
              "      <td>CL3</td>\n",
              "      <td>CL3</td>\n",
              "      <td>CL0</td>\n",
              "      <td>CL0</td>\n",
              "      <td>CL0</td>\n",
              "      <td>CL0</td>\n",
              "      <td>CL5</td>\n",
              "    </tr>\n",
              "    <tr>\n",
              "      <th>1881</th>\n",
              "      <td>1885</td>\n",
              "      <td>-0.95197</td>\n",
              "      <td>-0.48246</td>\n",
              "      <td>-0.61113</td>\n",
              "      <td>-0.57009</td>\n",
              "      <td>-0.31685</td>\n",
              "      <td>-0.24649</td>\n",
              "      <td>1.74091</td>\n",
              "      <td>0.58331</td>\n",
              "      <td>0.76096</td>\n",
              "      <td>-1.51840</td>\n",
              "      <td>0.88113</td>\n",
              "      <td>0.76540</td>\n",
              "      <td>CL5</td>\n",
              "      <td>CL0</td>\n",
              "      <td>CL0</td>\n",
              "      <td>CL0</td>\n",
              "      <td>CL5</td>\n",
              "      <td>CL3</td>\n",
              "      <td>CL4</td>\n",
              "      <td>CL0</td>\n",
              "      <td>CL0</td>\n",
              "      <td>CL2</td>\n",
              "      <td>CL0</td>\n",
              "      <td>CL0</td>\n",
              "      <td>CL3</td>\n",
              "      <td>CL5</td>\n",
              "      <td>CL4</td>\n",
              "      <td>CL4</td>\n",
              "      <td>CL5</td>\n",
              "      <td>CL0</td>\n",
              "      <td>CL0</td>\n",
              "    </tr>\n",
              "    <tr>\n",
              "      <th>1882</th>\n",
              "      <td>1886</td>\n",
              "      <td>-0.07854</td>\n",
              "      <td>0.48246</td>\n",
              "      <td>0.45468</td>\n",
              "      <td>-0.57009</td>\n",
              "      <td>-0.31685</td>\n",
              "      <td>1.13281</td>\n",
              "      <td>-1.37639</td>\n",
              "      <td>-1.27553</td>\n",
              "      <td>-1.77200</td>\n",
              "      <td>-1.38502</td>\n",
              "      <td>0.52975</td>\n",
              "      <td>-0.52593</td>\n",
              "      <td>CL4</td>\n",
              "      <td>CL6</td>\n",
              "      <td>CL5</td>\n",
              "      <td>CL5</td>\n",
              "      <td>CL6</td>\n",
              "      <td>CL6</td>\n",
              "      <td>CL6</td>\n",
              "      <td>CL4</td>\n",
              "      <td>CL0</td>\n",
              "      <td>CL4</td>\n",
              "      <td>CL0</td>\n",
              "      <td>CL2</td>\n",
              "      <td>CL0</td>\n",
              "      <td>CL2</td>\n",
              "      <td>CL0</td>\n",
              "      <td>CL2</td>\n",
              "      <td>CL6</td>\n",
              "      <td>CL0</td>\n",
              "      <td>CL0</td>\n",
              "    </tr>\n",
              "    <tr>\n",
              "      <th>1883</th>\n",
              "      <td>1887</td>\n",
              "      <td>-0.95197</td>\n",
              "      <td>0.48246</td>\n",
              "      <td>-0.61113</td>\n",
              "      <td>-0.57009</td>\n",
              "      <td>-0.31685</td>\n",
              "      <td>0.91093</td>\n",
              "      <td>-1.92173</td>\n",
              "      <td>0.29338</td>\n",
              "      <td>-1.62090</td>\n",
              "      <td>-2.57309</td>\n",
              "      <td>1.29221</td>\n",
              "      <td>1.22470</td>\n",
              "      <td>CL5</td>\n",
              "      <td>CL0</td>\n",
              "      <td>CL0</td>\n",
              "      <td>CL0</td>\n",
              "      <td>CL6</td>\n",
              "      <td>CL6</td>\n",
              "      <td>CL5</td>\n",
              "      <td>CL0</td>\n",
              "      <td>CL0</td>\n",
              "      <td>CL3</td>\n",
              "      <td>CL0</td>\n",
              "      <td>CL0</td>\n",
              "      <td>CL3</td>\n",
              "      <td>CL3</td>\n",
              "      <td>CL0</td>\n",
              "      <td>CL3</td>\n",
              "      <td>CL4</td>\n",
              "      <td>CL0</td>\n",
              "      <td>CL0</td>\n",
              "    </tr>\n",
              "    <tr>\n",
              "      <th>1884</th>\n",
              "      <td>1888</td>\n",
              "      <td>-0.95197</td>\n",
              "      <td>-0.48246</td>\n",
              "      <td>-0.61113</td>\n",
              "      <td>0.21128</td>\n",
              "      <td>-0.31685</td>\n",
              "      <td>-0.46725</td>\n",
              "      <td>2.12700</td>\n",
              "      <td>1.65653</td>\n",
              "      <td>1.11406</td>\n",
              "      <td>0.41594</td>\n",
              "      <td>0.88113</td>\n",
              "      <td>1.22470</td>\n",
              "      <td>CL4</td>\n",
              "      <td>CL3</td>\n",
              "      <td>CL0</td>\n",
              "      <td>CL3</td>\n",
              "      <td>CL6</td>\n",
              "      <td>CL3</td>\n",
              "      <td>CL6</td>\n",
              "      <td>CL3</td>\n",
              "      <td>CL0</td>\n",
              "      <td>CL3</td>\n",
              "      <td>CL0</td>\n",
              "      <td>CL0</td>\n",
              "      <td>CL3</td>\n",
              "      <td>CL3</td>\n",
              "      <td>CL0</td>\n",
              "      <td>CL3</td>\n",
              "      <td>CL6</td>\n",
              "      <td>CL0</td>\n",
              "      <td>CL2</td>\n",
              "    </tr>\n",
              "  </tbody>\n",
              "</table>\n",
              "<p>1885 rows × 32 columns</p>\n",
              "</div>"
            ],
            "text/plain": [
              "        ID      Age   Gender  Education  ...  Mushrooms  Nicotine  Semer   Volatile\n",
              "0        1  0.49788  0.48246   -0.05921  ...        CL0       CL2    CL0        CL0\n",
              "1        2 -0.07854 -0.48246    1.98437  ...        CL0       CL4    CL0        CL0\n",
              "2        3  0.49788 -0.48246   -0.05921  ...        CL1       CL0    CL0        CL0\n",
              "3        4 -0.95197  0.48246    1.16365  ...        CL0       CL2    CL0        CL0\n",
              "4        5  0.49788  0.48246    1.98437  ...        CL2       CL2    CL0        CL0\n",
              "...    ...      ...      ...        ...  ...        ...       ...    ...        ...\n",
              "1880  1884 -0.95197  0.48246   -0.61113  ...        CL0       CL0    CL0        CL5\n",
              "1881  1885 -0.95197 -0.48246   -0.61113  ...        CL4       CL5    CL0        CL0\n",
              "1882  1886 -0.07854  0.48246    0.45468  ...        CL2       CL6    CL0        CL0\n",
              "1883  1887 -0.95197  0.48246   -0.61113  ...        CL3       CL4    CL0        CL0\n",
              "1884  1888 -0.95197 -0.48246   -0.61113  ...        CL3       CL6    CL0        CL2\n",
              "\n",
              "[1885 rows x 32 columns]"
            ]
          },
          "metadata": {
            "tags": []
          },
          "execution_count": 42
        }
      ]
    },
    {
      "cell_type": "markdown",
      "metadata": {
        "id": "yKMnxrlMWrOs"
      },
      "source": [
        "#3. Previewing our dataset"
      ]
    },
    {
      "cell_type": "code",
      "metadata": {
        "colab": {
          "base_uri": "https://localhost:8080/"
        },
        "id": "2ybTq5CsiaAU",
        "outputId": "ea6f96a0-18d7-41be-bc7f-22ed33ae9acd"
      },
      "source": [
        "#Previewing information  about our dataset\n",
        "df.info()"
      ],
      "execution_count": null,
      "outputs": [
        {
          "output_type": "stream",
          "text": [
            "<class 'pandas.core.frame.DataFrame'>\n",
            "RangeIndex: 1885 entries, 0 to 1884\n",
            "Data columns (total 32 columns):\n",
            " #   Column        Non-Null Count  Dtype  \n",
            "---  ------        --------------  -----  \n",
            " 0   ID            1885 non-null   int64  \n",
            " 1   Age           1885 non-null   float64\n",
            " 2   Gender        1885 non-null   float64\n",
            " 3   Education     1885 non-null   float64\n",
            " 4   Country       1885 non-null   float64\n",
            " 5   Ethnicity     1885 non-null   float64\n",
            " 6   Nscore        1885 non-null   float64\n",
            " 7   Escore        1885 non-null   float64\n",
            " 8   Oscore        1885 non-null   float64\n",
            " 9   Ascore        1885 non-null   float64\n",
            " 10  Cscore        1885 non-null   float64\n",
            " 11  Impulsive     1885 non-null   float64\n",
            " 12  SS            1885 non-null   float64\n",
            " 13  Alcohol       1885 non-null   object \n",
            " 14  Amphetamines  1885 non-null   object \n",
            " 15   Amyl         1885 non-null   object \n",
            " 16   Benzos       1885 non-null   object \n",
            " 17   caffeine     1885 non-null   object \n",
            " 18  Cannabis      1885 non-null   object \n",
            " 19  chocolate     1885 non-null   object \n",
            " 20   cocaine      1885 non-null   object \n",
            " 21   Crack        1885 non-null   object \n",
            " 22  Ecstasy       1885 non-null   object \n",
            " 23   Heroin       1885 non-null   object \n",
            " 24   Ketamine     1885 non-null   object \n",
            " 25   legal highs  1885 non-null   object \n",
            " 26   LSD          1885 non-null   object \n",
            " 27  methadone     1885 non-null   object \n",
            " 28  Mushrooms     1885 non-null   object \n",
            " 29  Nicotine      1885 non-null   object \n",
            " 30  Semer         1885 non-null   object \n",
            " 31   Volatile     1885 non-null   object \n",
            "dtypes: float64(12), int64(1), object(19)\n",
            "memory usage: 471.4+ KB\n"
          ],
          "name": "stdout"
        }
      ]
    },
    {
      "cell_type": "code",
      "metadata": {
        "colab": {
          "base_uri": "https://localhost:8080/"
        },
        "id": "z6m4qeLk3v-M",
        "outputId": "66250ad4-f47d-4446-8128-bf7bb3e4c38e"
      },
      "source": [
        "#Previewing the shape of our dataset\n",
        "df.shape"
      ],
      "execution_count": null,
      "outputs": [
        {
          "output_type": "execute_result",
          "data": {
            "text/plain": [
              "(1885, 32)"
            ]
          },
          "metadata": {
            "tags": []
          },
          "execution_count": 44
        }
      ]
    },
    {
      "cell_type": "code",
      "metadata": {
        "colab": {
          "base_uri": "https://localhost:8080/",
          "height": 241
        },
        "id": "7XzO48UXbyH5",
        "outputId": "31b05625-5c76-4235-abb1-8bd21b609b82"
      },
      "source": [
        "#Previewing the first five rows\n",
        "df.head()"
      ],
      "execution_count": null,
      "outputs": [
        {
          "output_type": "execute_result",
          "data": {
            "text/html": [
              "<div>\n",
              "<style scoped>\n",
              "    .dataframe tbody tr th:only-of-type {\n",
              "        vertical-align: middle;\n",
              "    }\n",
              "\n",
              "    .dataframe tbody tr th {\n",
              "        vertical-align: top;\n",
              "    }\n",
              "\n",
              "    .dataframe thead th {\n",
              "        text-align: right;\n",
              "    }\n",
              "</style>\n",
              "<table border=\"1\" class=\"dataframe\">\n",
              "  <thead>\n",
              "    <tr style=\"text-align: right;\">\n",
              "      <th></th>\n",
              "      <th>ID</th>\n",
              "      <th>Age</th>\n",
              "      <th>Gender</th>\n",
              "      <th>Education</th>\n",
              "      <th>Country</th>\n",
              "      <th>Ethnicity</th>\n",
              "      <th>Nscore</th>\n",
              "      <th>Escore</th>\n",
              "      <th>Oscore</th>\n",
              "      <th>Ascore</th>\n",
              "      <th>Cscore</th>\n",
              "      <th>Impulsive</th>\n",
              "      <th>SS</th>\n",
              "      <th>Alcohol</th>\n",
              "      <th>Amphetamines</th>\n",
              "      <th>Amyl</th>\n",
              "      <th>Benzos</th>\n",
              "      <th>caffeine</th>\n",
              "      <th>Cannabis</th>\n",
              "      <th>chocolate</th>\n",
              "      <th>cocaine</th>\n",
              "      <th>Crack</th>\n",
              "      <th>Ecstasy</th>\n",
              "      <th>Heroin</th>\n",
              "      <th>Ketamine</th>\n",
              "      <th>legal highs</th>\n",
              "      <th>LSD</th>\n",
              "      <th>methadone</th>\n",
              "      <th>Mushrooms</th>\n",
              "      <th>Nicotine</th>\n",
              "      <th>Semer</th>\n",
              "      <th>Volatile</th>\n",
              "    </tr>\n",
              "  </thead>\n",
              "  <tbody>\n",
              "    <tr>\n",
              "      <th>0</th>\n",
              "      <td>1</td>\n",
              "      <td>0.49788</td>\n",
              "      <td>0.48246</td>\n",
              "      <td>-0.05921</td>\n",
              "      <td>0.96082</td>\n",
              "      <td>0.12600</td>\n",
              "      <td>0.31287</td>\n",
              "      <td>-0.57545</td>\n",
              "      <td>-0.58331</td>\n",
              "      <td>-0.91699</td>\n",
              "      <td>-0.00665</td>\n",
              "      <td>-0.21712</td>\n",
              "      <td>-1.18084</td>\n",
              "      <td>CL5</td>\n",
              "      <td>CL2</td>\n",
              "      <td>CL0</td>\n",
              "      <td>CL2</td>\n",
              "      <td>CL6</td>\n",
              "      <td>CL0</td>\n",
              "      <td>CL5</td>\n",
              "      <td>CL0</td>\n",
              "      <td>CL0</td>\n",
              "      <td>CL0</td>\n",
              "      <td>CL0</td>\n",
              "      <td>CL0</td>\n",
              "      <td>CL0</td>\n",
              "      <td>CL0</td>\n",
              "      <td>CL0</td>\n",
              "      <td>CL0</td>\n",
              "      <td>CL2</td>\n",
              "      <td>CL0</td>\n",
              "      <td>CL0</td>\n",
              "    </tr>\n",
              "    <tr>\n",
              "      <th>1</th>\n",
              "      <td>2</td>\n",
              "      <td>-0.07854</td>\n",
              "      <td>-0.48246</td>\n",
              "      <td>1.98437</td>\n",
              "      <td>0.96082</td>\n",
              "      <td>-0.31685</td>\n",
              "      <td>-0.67825</td>\n",
              "      <td>1.93886</td>\n",
              "      <td>1.43533</td>\n",
              "      <td>0.76096</td>\n",
              "      <td>-0.14277</td>\n",
              "      <td>-0.71126</td>\n",
              "      <td>-0.21575</td>\n",
              "      <td>CL5</td>\n",
              "      <td>CL2</td>\n",
              "      <td>CL2</td>\n",
              "      <td>CL0</td>\n",
              "      <td>CL6</td>\n",
              "      <td>CL4</td>\n",
              "      <td>CL6</td>\n",
              "      <td>CL3</td>\n",
              "      <td>CL0</td>\n",
              "      <td>CL4</td>\n",
              "      <td>CL0</td>\n",
              "      <td>CL2</td>\n",
              "      <td>CL0</td>\n",
              "      <td>CL2</td>\n",
              "      <td>CL3</td>\n",
              "      <td>CL0</td>\n",
              "      <td>CL4</td>\n",
              "      <td>CL0</td>\n",
              "      <td>CL0</td>\n",
              "    </tr>\n",
              "    <tr>\n",
              "      <th>2</th>\n",
              "      <td>3</td>\n",
              "      <td>0.49788</td>\n",
              "      <td>-0.48246</td>\n",
              "      <td>-0.05921</td>\n",
              "      <td>0.96082</td>\n",
              "      <td>-0.31685</td>\n",
              "      <td>-0.46725</td>\n",
              "      <td>0.80523</td>\n",
              "      <td>-0.84732</td>\n",
              "      <td>-1.62090</td>\n",
              "      <td>-1.01450</td>\n",
              "      <td>-1.37983</td>\n",
              "      <td>0.40148</td>\n",
              "      <td>CL6</td>\n",
              "      <td>CL0</td>\n",
              "      <td>CL0</td>\n",
              "      <td>CL0</td>\n",
              "      <td>CL6</td>\n",
              "      <td>CL3</td>\n",
              "      <td>CL4</td>\n",
              "      <td>CL0</td>\n",
              "      <td>CL0</td>\n",
              "      <td>CL0</td>\n",
              "      <td>CL0</td>\n",
              "      <td>CL0</td>\n",
              "      <td>CL0</td>\n",
              "      <td>CL0</td>\n",
              "      <td>CL0</td>\n",
              "      <td>CL1</td>\n",
              "      <td>CL0</td>\n",
              "      <td>CL0</td>\n",
              "      <td>CL0</td>\n",
              "    </tr>\n",
              "    <tr>\n",
              "      <th>3</th>\n",
              "      <td>4</td>\n",
              "      <td>-0.95197</td>\n",
              "      <td>0.48246</td>\n",
              "      <td>1.16365</td>\n",
              "      <td>0.96082</td>\n",
              "      <td>-0.31685</td>\n",
              "      <td>-0.14882</td>\n",
              "      <td>-0.80615</td>\n",
              "      <td>-0.01928</td>\n",
              "      <td>0.59042</td>\n",
              "      <td>0.58489</td>\n",
              "      <td>-1.37983</td>\n",
              "      <td>-1.18084</td>\n",
              "      <td>CL4</td>\n",
              "      <td>CL0</td>\n",
              "      <td>CL0</td>\n",
              "      <td>CL3</td>\n",
              "      <td>CL5</td>\n",
              "      <td>CL2</td>\n",
              "      <td>CL4</td>\n",
              "      <td>CL2</td>\n",
              "      <td>CL0</td>\n",
              "      <td>CL0</td>\n",
              "      <td>CL0</td>\n",
              "      <td>CL2</td>\n",
              "      <td>CL0</td>\n",
              "      <td>CL0</td>\n",
              "      <td>CL0</td>\n",
              "      <td>CL0</td>\n",
              "      <td>CL2</td>\n",
              "      <td>CL0</td>\n",
              "      <td>CL0</td>\n",
              "    </tr>\n",
              "    <tr>\n",
              "      <th>4</th>\n",
              "      <td>5</td>\n",
              "      <td>0.49788</td>\n",
              "      <td>0.48246</td>\n",
              "      <td>1.98437</td>\n",
              "      <td>0.96082</td>\n",
              "      <td>-0.31685</td>\n",
              "      <td>0.73545</td>\n",
              "      <td>-1.63340</td>\n",
              "      <td>-0.45174</td>\n",
              "      <td>-0.30172</td>\n",
              "      <td>1.30612</td>\n",
              "      <td>-0.21712</td>\n",
              "      <td>-0.21575</td>\n",
              "      <td>CL4</td>\n",
              "      <td>CL1</td>\n",
              "      <td>CL1</td>\n",
              "      <td>CL0</td>\n",
              "      <td>CL6</td>\n",
              "      <td>CL3</td>\n",
              "      <td>CL6</td>\n",
              "      <td>CL0</td>\n",
              "      <td>CL0</td>\n",
              "      <td>CL1</td>\n",
              "      <td>CL0</td>\n",
              "      <td>CL0</td>\n",
              "      <td>CL1</td>\n",
              "      <td>CL0</td>\n",
              "      <td>CL0</td>\n",
              "      <td>CL2</td>\n",
              "      <td>CL2</td>\n",
              "      <td>CL0</td>\n",
              "      <td>CL0</td>\n",
              "    </tr>\n",
              "  </tbody>\n",
              "</table>\n",
              "</div>"
            ],
            "text/plain": [
              "   ID      Age   Gender  Education  ...  Mushrooms  Nicotine  Semer   Volatile\n",
              "0   1  0.49788  0.48246   -0.05921  ...        CL0       CL2    CL0        CL0\n",
              "1   2 -0.07854 -0.48246    1.98437  ...        CL0       CL4    CL0        CL0\n",
              "2   3  0.49788 -0.48246   -0.05921  ...        CL1       CL0    CL0        CL0\n",
              "3   4 -0.95197  0.48246    1.16365  ...        CL0       CL2    CL0        CL0\n",
              "4   5  0.49788  0.48246    1.98437  ...        CL2       CL2    CL0        CL0\n",
              "\n",
              "[5 rows x 32 columns]"
            ]
          },
          "metadata": {
            "tags": []
          },
          "execution_count": 45
        }
      ]
    },
    {
      "cell_type": "markdown",
      "metadata": {
        "id": "HMdRqNWfW10x"
      },
      "source": [
        "#4. Data Cleaning"
      ]
    },
    {
      "cell_type": "markdown",
      "metadata": {
        "id": "8iQH1cWGW_Cx"
      },
      "source": [
        "####4.1 Validity"
      ]
    },
    {
      "cell_type": "code",
      "metadata": {
        "id": "gg08hx_LwGQI"
      },
      "source": [
        "#dropping the personality columns\n",
        "df.drop(['Nscore',\t'Escore',\t'Oscore',\t'Ascore',\t'Cscore',\t'Impulsive',\t'SS'], axis=1, inplace=True)"
      ],
      "execution_count": null,
      "outputs": []
    },
    {
      "cell_type": "markdown",
      "metadata": {
        "id": "DdaTaDl0WKhH"
      },
      "source": [
        "###4.2 Accuracy"
      ]
    },
    {
      "cell_type": "code",
      "metadata": {
        "colab": {
          "base_uri": "https://localhost:8080/"
        },
        "id": "kWld-ywscD1O",
        "outputId": "672f02a2-f61f-48ab-eee8-3aaf8c860da6"
      },
      "source": [
        "#Dropping all rows where the value of Gender is less than -0.48246 or greater than 0.48246\n",
        "nr = df[(df['Gender'] < -0.48246) & (df['Gender'] > 0.48246) ].index\n",
        "df.drop(nr , inplace=True)\n",
        "#Checking if any of the rows dropped\n",
        "df.shape\n",
        "#From the result all rows are accurate and within range"
      ],
      "execution_count": null,
      "outputs": [
        {
          "output_type": "execute_result",
          "data": {
            "text/plain": [
              "(1885, 25)"
            ]
          },
          "metadata": {
            "tags": []
          },
          "execution_count": 47
        }
      ]
    },
    {
      "cell_type": "markdown",
      "metadata": {
        "id": "6QJP01LmVSEz"
      },
      "source": [
        "###4.3 Completeness"
      ]
    },
    {
      "cell_type": "code",
      "metadata": {
        "colab": {
          "base_uri": "https://localhost:8080/"
        },
        "id": "4ug2488ox39X",
        "outputId": "5d587430-fcb3-430d-deab-29821951403f"
      },
      "source": [
        "# Checking if there is any missing value in dataframe as a whole\n",
        "df.isnull()\n",
        "# Checking if there is any missing value across each column\n",
        "df.isnull().any()\n",
        "# Checking how many missing values there are across each column\n",
        "df.isnull().sum()"
      ],
      "execution_count": null,
      "outputs": [
        {
          "output_type": "execute_result",
          "data": {
            "text/plain": [
              "ID              0\n",
              "Age             0\n",
              "Gender          0\n",
              "Education       0\n",
              "Country         0\n",
              "Ethnicity       0\n",
              "Alcohol         0\n",
              "Amphetamines    0\n",
              " Amyl           0\n",
              " Benzos         0\n",
              " caffeine       0\n",
              "Cannabis        0\n",
              "chocolate       0\n",
              " cocaine        0\n",
              " Crack          0\n",
              "Ecstasy         0\n",
              " Heroin         0\n",
              " Ketamine       0\n",
              " legal highs    0\n",
              " LSD            0\n",
              "methadone       0\n",
              "Mushrooms       0\n",
              "Nicotine        0\n",
              "Semer           0\n",
              " Volatile       0\n",
              "dtype: int64"
            ]
          },
          "metadata": {
            "tags": []
          },
          "execution_count": 48
        }
      ]
    },
    {
      "cell_type": "markdown",
      "metadata": {
        "id": "y7z1n3eKVqEY"
      },
      "source": [
        "###4.4 Consistency"
      ]
    },
    {
      "cell_type": "code",
      "metadata": {
        "colab": {
          "base_uri": "https://localhost:8080/"
        },
        "id": "kvwhLm3iyuTS",
        "outputId": "a1937973-a109-491d-c16b-e838d61a998e"
      },
      "source": [
        "#Checking for duplicates\n",
        "df.duplicated().sum()"
      ],
      "execution_count": null,
      "outputs": [
        {
          "output_type": "execute_result",
          "data": {
            "text/plain": [
              "0"
            ]
          },
          "metadata": {
            "tags": []
          },
          "execution_count": 49
        }
      ]
    },
    {
      "cell_type": "markdown",
      "metadata": {
        "id": "EfqRafUMWai3"
      },
      "source": [
        "###4.5 Uniformity"
      ]
    },
    {
      "cell_type": "code",
      "metadata": {
        "colab": {
          "base_uri": "https://localhost:8080/",
          "height": 224
        },
        "id": "xt6oc7DE4UNq",
        "outputId": "b2c819fc-0568-4a66-c45f-f4ab09799d5c"
      },
      "source": [
        "#changing column names to upper case and placing underscore to make the column names be more presentable\n",
        "df.columns = df.columns.str.strip().str.upper().str.replace(' ', '_').str.replace('(', '').str.replace(')', '')\n",
        "df.head(5)"
      ],
      "execution_count": null,
      "outputs": [
        {
          "output_type": "execute_result",
          "data": {
            "text/html": [
              "<div>\n",
              "<style scoped>\n",
              "    .dataframe tbody tr th:only-of-type {\n",
              "        vertical-align: middle;\n",
              "    }\n",
              "\n",
              "    .dataframe tbody tr th {\n",
              "        vertical-align: top;\n",
              "    }\n",
              "\n",
              "    .dataframe thead th {\n",
              "        text-align: right;\n",
              "    }\n",
              "</style>\n",
              "<table border=\"1\" class=\"dataframe\">\n",
              "  <thead>\n",
              "    <tr style=\"text-align: right;\">\n",
              "      <th></th>\n",
              "      <th>ID</th>\n",
              "      <th>AGE</th>\n",
              "      <th>GENDER</th>\n",
              "      <th>EDUCATION</th>\n",
              "      <th>COUNTRY</th>\n",
              "      <th>ETHNICITY</th>\n",
              "      <th>ALCOHOL</th>\n",
              "      <th>AMPHETAMINES</th>\n",
              "      <th>AMYL</th>\n",
              "      <th>BENZOS</th>\n",
              "      <th>CAFFEINE</th>\n",
              "      <th>CANNABIS</th>\n",
              "      <th>CHOCOLATE</th>\n",
              "      <th>COCAINE</th>\n",
              "      <th>CRACK</th>\n",
              "      <th>ECSTASY</th>\n",
              "      <th>HEROIN</th>\n",
              "      <th>KETAMINE</th>\n",
              "      <th>LEGAL_HIGHS</th>\n",
              "      <th>LSD</th>\n",
              "      <th>METHADONE</th>\n",
              "      <th>MUSHROOMS</th>\n",
              "      <th>NICOTINE</th>\n",
              "      <th>SEMER</th>\n",
              "      <th>VOLATILE</th>\n",
              "    </tr>\n",
              "  </thead>\n",
              "  <tbody>\n",
              "    <tr>\n",
              "      <th>0</th>\n",
              "      <td>1</td>\n",
              "      <td>0.49788</td>\n",
              "      <td>0.48246</td>\n",
              "      <td>-0.05921</td>\n",
              "      <td>0.96082</td>\n",
              "      <td>0.12600</td>\n",
              "      <td>CL5</td>\n",
              "      <td>CL2</td>\n",
              "      <td>CL0</td>\n",
              "      <td>CL2</td>\n",
              "      <td>CL6</td>\n",
              "      <td>CL0</td>\n",
              "      <td>CL5</td>\n",
              "      <td>CL0</td>\n",
              "      <td>CL0</td>\n",
              "      <td>CL0</td>\n",
              "      <td>CL0</td>\n",
              "      <td>CL0</td>\n",
              "      <td>CL0</td>\n",
              "      <td>CL0</td>\n",
              "      <td>CL0</td>\n",
              "      <td>CL0</td>\n",
              "      <td>CL2</td>\n",
              "      <td>CL0</td>\n",
              "      <td>CL0</td>\n",
              "    </tr>\n",
              "    <tr>\n",
              "      <th>1</th>\n",
              "      <td>2</td>\n",
              "      <td>-0.07854</td>\n",
              "      <td>-0.48246</td>\n",
              "      <td>1.98437</td>\n",
              "      <td>0.96082</td>\n",
              "      <td>-0.31685</td>\n",
              "      <td>CL5</td>\n",
              "      <td>CL2</td>\n",
              "      <td>CL2</td>\n",
              "      <td>CL0</td>\n",
              "      <td>CL6</td>\n",
              "      <td>CL4</td>\n",
              "      <td>CL6</td>\n",
              "      <td>CL3</td>\n",
              "      <td>CL0</td>\n",
              "      <td>CL4</td>\n",
              "      <td>CL0</td>\n",
              "      <td>CL2</td>\n",
              "      <td>CL0</td>\n",
              "      <td>CL2</td>\n",
              "      <td>CL3</td>\n",
              "      <td>CL0</td>\n",
              "      <td>CL4</td>\n",
              "      <td>CL0</td>\n",
              "      <td>CL0</td>\n",
              "    </tr>\n",
              "    <tr>\n",
              "      <th>2</th>\n",
              "      <td>3</td>\n",
              "      <td>0.49788</td>\n",
              "      <td>-0.48246</td>\n",
              "      <td>-0.05921</td>\n",
              "      <td>0.96082</td>\n",
              "      <td>-0.31685</td>\n",
              "      <td>CL6</td>\n",
              "      <td>CL0</td>\n",
              "      <td>CL0</td>\n",
              "      <td>CL0</td>\n",
              "      <td>CL6</td>\n",
              "      <td>CL3</td>\n",
              "      <td>CL4</td>\n",
              "      <td>CL0</td>\n",
              "      <td>CL0</td>\n",
              "      <td>CL0</td>\n",
              "      <td>CL0</td>\n",
              "      <td>CL0</td>\n",
              "      <td>CL0</td>\n",
              "      <td>CL0</td>\n",
              "      <td>CL0</td>\n",
              "      <td>CL1</td>\n",
              "      <td>CL0</td>\n",
              "      <td>CL0</td>\n",
              "      <td>CL0</td>\n",
              "    </tr>\n",
              "    <tr>\n",
              "      <th>3</th>\n",
              "      <td>4</td>\n",
              "      <td>-0.95197</td>\n",
              "      <td>0.48246</td>\n",
              "      <td>1.16365</td>\n",
              "      <td>0.96082</td>\n",
              "      <td>-0.31685</td>\n",
              "      <td>CL4</td>\n",
              "      <td>CL0</td>\n",
              "      <td>CL0</td>\n",
              "      <td>CL3</td>\n",
              "      <td>CL5</td>\n",
              "      <td>CL2</td>\n",
              "      <td>CL4</td>\n",
              "      <td>CL2</td>\n",
              "      <td>CL0</td>\n",
              "      <td>CL0</td>\n",
              "      <td>CL0</td>\n",
              "      <td>CL2</td>\n",
              "      <td>CL0</td>\n",
              "      <td>CL0</td>\n",
              "      <td>CL0</td>\n",
              "      <td>CL0</td>\n",
              "      <td>CL2</td>\n",
              "      <td>CL0</td>\n",
              "      <td>CL0</td>\n",
              "    </tr>\n",
              "    <tr>\n",
              "      <th>4</th>\n",
              "      <td>5</td>\n",
              "      <td>0.49788</td>\n",
              "      <td>0.48246</td>\n",
              "      <td>1.98437</td>\n",
              "      <td>0.96082</td>\n",
              "      <td>-0.31685</td>\n",
              "      <td>CL4</td>\n",
              "      <td>CL1</td>\n",
              "      <td>CL1</td>\n",
              "      <td>CL0</td>\n",
              "      <td>CL6</td>\n",
              "      <td>CL3</td>\n",
              "      <td>CL6</td>\n",
              "      <td>CL0</td>\n",
              "      <td>CL0</td>\n",
              "      <td>CL1</td>\n",
              "      <td>CL0</td>\n",
              "      <td>CL0</td>\n",
              "      <td>CL1</td>\n",
              "      <td>CL0</td>\n",
              "      <td>CL0</td>\n",
              "      <td>CL2</td>\n",
              "      <td>CL2</td>\n",
              "      <td>CL0</td>\n",
              "      <td>CL0</td>\n",
              "    </tr>\n",
              "  </tbody>\n",
              "</table>\n",
              "</div>"
            ],
            "text/plain": [
              "   ID      AGE   GENDER  EDUCATION  ...  MUSHROOMS  NICOTINE SEMER VOLATILE\n",
              "0   1  0.49788  0.48246   -0.05921  ...        CL0       CL2   CL0      CL0\n",
              "1   2 -0.07854 -0.48246    1.98437  ...        CL0       CL4   CL0      CL0\n",
              "2   3  0.49788 -0.48246   -0.05921  ...        CL1       CL0   CL0      CL0\n",
              "3   4 -0.95197  0.48246    1.16365  ...        CL0       CL2   CL0      CL0\n",
              "4   5  0.49788  0.48246    1.98437  ...        CL2       CL2   CL0      CL0\n",
              "\n",
              "[5 rows x 25 columns]"
            ]
          },
          "metadata": {
            "tags": []
          },
          "execution_count": 50
        }
      ]
    },
    {
      "cell_type": "code",
      "metadata": {
        "id": "Xi23Um0_OBDP",
        "colab": {
          "base_uri": "https://localhost:8080/",
          "height": 439
        },
        "outputId": "b21a6223-44be-42df-aabd-98be63025e13"
      },
      "source": [
        "#Changing values  in gender column to categories i.e male and female\n",
        "df['GENDER']=df['GENDER'].apply(lambda x: 'male' if x<0 else 'female')\n",
        "df"
      ],
      "execution_count": null,
      "outputs": [
        {
          "output_type": "execute_result",
          "data": {
            "text/html": [
              "<div>\n",
              "<style scoped>\n",
              "    .dataframe tbody tr th:only-of-type {\n",
              "        vertical-align: middle;\n",
              "    }\n",
              "\n",
              "    .dataframe tbody tr th {\n",
              "        vertical-align: top;\n",
              "    }\n",
              "\n",
              "    .dataframe thead th {\n",
              "        text-align: right;\n",
              "    }\n",
              "</style>\n",
              "<table border=\"1\" class=\"dataframe\">\n",
              "  <thead>\n",
              "    <tr style=\"text-align: right;\">\n",
              "      <th></th>\n",
              "      <th>ID</th>\n",
              "      <th>AGE</th>\n",
              "      <th>GENDER</th>\n",
              "      <th>EDUCATION</th>\n",
              "      <th>COUNTRY</th>\n",
              "      <th>ETHNICITY</th>\n",
              "      <th>ALCOHOL</th>\n",
              "      <th>AMPHETAMINES</th>\n",
              "      <th>AMYL</th>\n",
              "      <th>BENZOS</th>\n",
              "      <th>CAFFEINE</th>\n",
              "      <th>CANNABIS</th>\n",
              "      <th>CHOCOLATE</th>\n",
              "      <th>COCAINE</th>\n",
              "      <th>CRACK</th>\n",
              "      <th>ECSTASY</th>\n",
              "      <th>HEROIN</th>\n",
              "      <th>KETAMINE</th>\n",
              "      <th>LEGAL_HIGHS</th>\n",
              "      <th>LSD</th>\n",
              "      <th>METHADONE</th>\n",
              "      <th>MUSHROOMS</th>\n",
              "      <th>NICOTINE</th>\n",
              "      <th>SEMER</th>\n",
              "      <th>VOLATILE</th>\n",
              "    </tr>\n",
              "  </thead>\n",
              "  <tbody>\n",
              "    <tr>\n",
              "      <th>0</th>\n",
              "      <td>1</td>\n",
              "      <td>0.49788</td>\n",
              "      <td>female</td>\n",
              "      <td>-0.05921</td>\n",
              "      <td>0.96082</td>\n",
              "      <td>0.12600</td>\n",
              "      <td>CL5</td>\n",
              "      <td>CL2</td>\n",
              "      <td>CL0</td>\n",
              "      <td>CL2</td>\n",
              "      <td>CL6</td>\n",
              "      <td>CL0</td>\n",
              "      <td>CL5</td>\n",
              "      <td>CL0</td>\n",
              "      <td>CL0</td>\n",
              "      <td>CL0</td>\n",
              "      <td>CL0</td>\n",
              "      <td>CL0</td>\n",
              "      <td>CL0</td>\n",
              "      <td>CL0</td>\n",
              "      <td>CL0</td>\n",
              "      <td>CL0</td>\n",
              "      <td>CL2</td>\n",
              "      <td>CL0</td>\n",
              "      <td>CL0</td>\n",
              "    </tr>\n",
              "    <tr>\n",
              "      <th>1</th>\n",
              "      <td>2</td>\n",
              "      <td>-0.07854</td>\n",
              "      <td>male</td>\n",
              "      <td>1.98437</td>\n",
              "      <td>0.96082</td>\n",
              "      <td>-0.31685</td>\n",
              "      <td>CL5</td>\n",
              "      <td>CL2</td>\n",
              "      <td>CL2</td>\n",
              "      <td>CL0</td>\n",
              "      <td>CL6</td>\n",
              "      <td>CL4</td>\n",
              "      <td>CL6</td>\n",
              "      <td>CL3</td>\n",
              "      <td>CL0</td>\n",
              "      <td>CL4</td>\n",
              "      <td>CL0</td>\n",
              "      <td>CL2</td>\n",
              "      <td>CL0</td>\n",
              "      <td>CL2</td>\n",
              "      <td>CL3</td>\n",
              "      <td>CL0</td>\n",
              "      <td>CL4</td>\n",
              "      <td>CL0</td>\n",
              "      <td>CL0</td>\n",
              "    </tr>\n",
              "    <tr>\n",
              "      <th>2</th>\n",
              "      <td>3</td>\n",
              "      <td>0.49788</td>\n",
              "      <td>male</td>\n",
              "      <td>-0.05921</td>\n",
              "      <td>0.96082</td>\n",
              "      <td>-0.31685</td>\n",
              "      <td>CL6</td>\n",
              "      <td>CL0</td>\n",
              "      <td>CL0</td>\n",
              "      <td>CL0</td>\n",
              "      <td>CL6</td>\n",
              "      <td>CL3</td>\n",
              "      <td>CL4</td>\n",
              "      <td>CL0</td>\n",
              "      <td>CL0</td>\n",
              "      <td>CL0</td>\n",
              "      <td>CL0</td>\n",
              "      <td>CL0</td>\n",
              "      <td>CL0</td>\n",
              "      <td>CL0</td>\n",
              "      <td>CL0</td>\n",
              "      <td>CL1</td>\n",
              "      <td>CL0</td>\n",
              "      <td>CL0</td>\n",
              "      <td>CL0</td>\n",
              "    </tr>\n",
              "    <tr>\n",
              "      <th>3</th>\n",
              "      <td>4</td>\n",
              "      <td>-0.95197</td>\n",
              "      <td>female</td>\n",
              "      <td>1.16365</td>\n",
              "      <td>0.96082</td>\n",
              "      <td>-0.31685</td>\n",
              "      <td>CL4</td>\n",
              "      <td>CL0</td>\n",
              "      <td>CL0</td>\n",
              "      <td>CL3</td>\n",
              "      <td>CL5</td>\n",
              "      <td>CL2</td>\n",
              "      <td>CL4</td>\n",
              "      <td>CL2</td>\n",
              "      <td>CL0</td>\n",
              "      <td>CL0</td>\n",
              "      <td>CL0</td>\n",
              "      <td>CL2</td>\n",
              "      <td>CL0</td>\n",
              "      <td>CL0</td>\n",
              "      <td>CL0</td>\n",
              "      <td>CL0</td>\n",
              "      <td>CL2</td>\n",
              "      <td>CL0</td>\n",
              "      <td>CL0</td>\n",
              "    </tr>\n",
              "    <tr>\n",
              "      <th>4</th>\n",
              "      <td>5</td>\n",
              "      <td>0.49788</td>\n",
              "      <td>female</td>\n",
              "      <td>1.98437</td>\n",
              "      <td>0.96082</td>\n",
              "      <td>-0.31685</td>\n",
              "      <td>CL4</td>\n",
              "      <td>CL1</td>\n",
              "      <td>CL1</td>\n",
              "      <td>CL0</td>\n",
              "      <td>CL6</td>\n",
              "      <td>CL3</td>\n",
              "      <td>CL6</td>\n",
              "      <td>CL0</td>\n",
              "      <td>CL0</td>\n",
              "      <td>CL1</td>\n",
              "      <td>CL0</td>\n",
              "      <td>CL0</td>\n",
              "      <td>CL1</td>\n",
              "      <td>CL0</td>\n",
              "      <td>CL0</td>\n",
              "      <td>CL2</td>\n",
              "      <td>CL2</td>\n",
              "      <td>CL0</td>\n",
              "      <td>CL0</td>\n",
              "    </tr>\n",
              "    <tr>\n",
              "      <th>...</th>\n",
              "      <td>...</td>\n",
              "      <td>...</td>\n",
              "      <td>...</td>\n",
              "      <td>...</td>\n",
              "      <td>...</td>\n",
              "      <td>...</td>\n",
              "      <td>...</td>\n",
              "      <td>...</td>\n",
              "      <td>...</td>\n",
              "      <td>...</td>\n",
              "      <td>...</td>\n",
              "      <td>...</td>\n",
              "      <td>...</td>\n",
              "      <td>...</td>\n",
              "      <td>...</td>\n",
              "      <td>...</td>\n",
              "      <td>...</td>\n",
              "      <td>...</td>\n",
              "      <td>...</td>\n",
              "      <td>...</td>\n",
              "      <td>...</td>\n",
              "      <td>...</td>\n",
              "      <td>...</td>\n",
              "      <td>...</td>\n",
              "      <td>...</td>\n",
              "    </tr>\n",
              "    <tr>\n",
              "      <th>1880</th>\n",
              "      <td>1884</td>\n",
              "      <td>-0.95197</td>\n",
              "      <td>female</td>\n",
              "      <td>-0.61113</td>\n",
              "      <td>-0.57009</td>\n",
              "      <td>-0.31685</td>\n",
              "      <td>CL5</td>\n",
              "      <td>CL0</td>\n",
              "      <td>CL0</td>\n",
              "      <td>CL0</td>\n",
              "      <td>CL4</td>\n",
              "      <td>CL5</td>\n",
              "      <td>CL4</td>\n",
              "      <td>CL0</td>\n",
              "      <td>CL0</td>\n",
              "      <td>CL0</td>\n",
              "      <td>CL0</td>\n",
              "      <td>CL0</td>\n",
              "      <td>CL3</td>\n",
              "      <td>CL3</td>\n",
              "      <td>CL0</td>\n",
              "      <td>CL0</td>\n",
              "      <td>CL0</td>\n",
              "      <td>CL0</td>\n",
              "      <td>CL5</td>\n",
              "    </tr>\n",
              "    <tr>\n",
              "      <th>1881</th>\n",
              "      <td>1885</td>\n",
              "      <td>-0.95197</td>\n",
              "      <td>male</td>\n",
              "      <td>-0.61113</td>\n",
              "      <td>-0.57009</td>\n",
              "      <td>-0.31685</td>\n",
              "      <td>CL5</td>\n",
              "      <td>CL0</td>\n",
              "      <td>CL0</td>\n",
              "      <td>CL0</td>\n",
              "      <td>CL5</td>\n",
              "      <td>CL3</td>\n",
              "      <td>CL4</td>\n",
              "      <td>CL0</td>\n",
              "      <td>CL0</td>\n",
              "      <td>CL2</td>\n",
              "      <td>CL0</td>\n",
              "      <td>CL0</td>\n",
              "      <td>CL3</td>\n",
              "      <td>CL5</td>\n",
              "      <td>CL4</td>\n",
              "      <td>CL4</td>\n",
              "      <td>CL5</td>\n",
              "      <td>CL0</td>\n",
              "      <td>CL0</td>\n",
              "    </tr>\n",
              "    <tr>\n",
              "      <th>1882</th>\n",
              "      <td>1886</td>\n",
              "      <td>-0.07854</td>\n",
              "      <td>female</td>\n",
              "      <td>0.45468</td>\n",
              "      <td>-0.57009</td>\n",
              "      <td>-0.31685</td>\n",
              "      <td>CL4</td>\n",
              "      <td>CL6</td>\n",
              "      <td>CL5</td>\n",
              "      <td>CL5</td>\n",
              "      <td>CL6</td>\n",
              "      <td>CL6</td>\n",
              "      <td>CL6</td>\n",
              "      <td>CL4</td>\n",
              "      <td>CL0</td>\n",
              "      <td>CL4</td>\n",
              "      <td>CL0</td>\n",
              "      <td>CL2</td>\n",
              "      <td>CL0</td>\n",
              "      <td>CL2</td>\n",
              "      <td>CL0</td>\n",
              "      <td>CL2</td>\n",
              "      <td>CL6</td>\n",
              "      <td>CL0</td>\n",
              "      <td>CL0</td>\n",
              "    </tr>\n",
              "    <tr>\n",
              "      <th>1883</th>\n",
              "      <td>1887</td>\n",
              "      <td>-0.95197</td>\n",
              "      <td>female</td>\n",
              "      <td>-0.61113</td>\n",
              "      <td>-0.57009</td>\n",
              "      <td>-0.31685</td>\n",
              "      <td>CL5</td>\n",
              "      <td>CL0</td>\n",
              "      <td>CL0</td>\n",
              "      <td>CL0</td>\n",
              "      <td>CL6</td>\n",
              "      <td>CL6</td>\n",
              "      <td>CL5</td>\n",
              "      <td>CL0</td>\n",
              "      <td>CL0</td>\n",
              "      <td>CL3</td>\n",
              "      <td>CL0</td>\n",
              "      <td>CL0</td>\n",
              "      <td>CL3</td>\n",
              "      <td>CL3</td>\n",
              "      <td>CL0</td>\n",
              "      <td>CL3</td>\n",
              "      <td>CL4</td>\n",
              "      <td>CL0</td>\n",
              "      <td>CL0</td>\n",
              "    </tr>\n",
              "    <tr>\n",
              "      <th>1884</th>\n",
              "      <td>1888</td>\n",
              "      <td>-0.95197</td>\n",
              "      <td>male</td>\n",
              "      <td>-0.61113</td>\n",
              "      <td>0.21128</td>\n",
              "      <td>-0.31685</td>\n",
              "      <td>CL4</td>\n",
              "      <td>CL3</td>\n",
              "      <td>CL0</td>\n",
              "      <td>CL3</td>\n",
              "      <td>CL6</td>\n",
              "      <td>CL3</td>\n",
              "      <td>CL6</td>\n",
              "      <td>CL3</td>\n",
              "      <td>CL0</td>\n",
              "      <td>CL3</td>\n",
              "      <td>CL0</td>\n",
              "      <td>CL0</td>\n",
              "      <td>CL3</td>\n",
              "      <td>CL3</td>\n",
              "      <td>CL0</td>\n",
              "      <td>CL3</td>\n",
              "      <td>CL6</td>\n",
              "      <td>CL0</td>\n",
              "      <td>CL2</td>\n",
              "    </tr>\n",
              "  </tbody>\n",
              "</table>\n",
              "<p>1885 rows × 25 columns</p>\n",
              "</div>"
            ],
            "text/plain": [
              "        ID      AGE  GENDER  EDUCATION  ...  MUSHROOMS  NICOTINE SEMER VOLATILE\n",
              "0        1  0.49788  female   -0.05921  ...        CL0       CL2   CL0      CL0\n",
              "1        2 -0.07854    male    1.98437  ...        CL0       CL4   CL0      CL0\n",
              "2        3  0.49788    male   -0.05921  ...        CL1       CL0   CL0      CL0\n",
              "3        4 -0.95197  female    1.16365  ...        CL0       CL2   CL0      CL0\n",
              "4        5  0.49788  female    1.98437  ...        CL2       CL2   CL0      CL0\n",
              "...    ...      ...     ...        ...  ...        ...       ...   ...      ...\n",
              "1880  1884 -0.95197  female   -0.61113  ...        CL0       CL0   CL0      CL5\n",
              "1881  1885 -0.95197    male   -0.61113  ...        CL4       CL5   CL0      CL0\n",
              "1882  1886 -0.07854  female    0.45468  ...        CL2       CL6   CL0      CL0\n",
              "1883  1887 -0.95197  female   -0.61113  ...        CL3       CL4   CL0      CL0\n",
              "1884  1888 -0.95197    male   -0.61113  ...        CL3       CL6   CL0      CL2\n",
              "\n",
              "[1885 rows x 25 columns]"
            ]
          },
          "metadata": {
            "tags": []
          },
          "execution_count": 51
        }
      ]
    },
    {
      "cell_type": "code",
      "metadata": {
        "id": "MOykLwAyObL3",
        "colab": {
          "base_uri": "https://localhost:8080/",
          "height": 473
        },
        "outputId": "1ef7f649-cc86-4e14-a27e-98eafce4e13d"
      },
      "source": [
        "#Classifying the ages to different age groups\n",
        "df['AGE']=df['AGE'].apply(lambda x: '18-24' if x==-0.95197 else ('25-34' if x==-0.07854 else ('35-44' if x==0.49788 else ('45-54' if x==1.09449 else ('55-64' if x==1.82213 else '65+')))))\n",
        "df"
      ],
      "execution_count": null,
      "outputs": [
        {
          "output_type": "execute_result",
          "data": {
            "text/html": [
              "<div>\n",
              "<style scoped>\n",
              "    .dataframe tbody tr th:only-of-type {\n",
              "        vertical-align: middle;\n",
              "    }\n",
              "\n",
              "    .dataframe tbody tr th {\n",
              "        vertical-align: top;\n",
              "    }\n",
              "\n",
              "    .dataframe thead th {\n",
              "        text-align: right;\n",
              "    }\n",
              "</style>\n",
              "<table border=\"1\" class=\"dataframe\">\n",
              "  <thead>\n",
              "    <tr style=\"text-align: right;\">\n",
              "      <th></th>\n",
              "      <th>ID</th>\n",
              "      <th>AGE</th>\n",
              "      <th>GENDER</th>\n",
              "      <th>EDUCATION</th>\n",
              "      <th>COUNTRY</th>\n",
              "      <th>ETHNICITY</th>\n",
              "      <th>ALCOHOL</th>\n",
              "      <th>AMPHETAMINES</th>\n",
              "      <th>AMYL</th>\n",
              "      <th>BENZOS</th>\n",
              "      <th>CAFFEINE</th>\n",
              "      <th>CANNABIS</th>\n",
              "      <th>CHOCOLATE</th>\n",
              "      <th>COCAINE</th>\n",
              "      <th>CRACK</th>\n",
              "      <th>ECSTASY</th>\n",
              "      <th>HEROIN</th>\n",
              "      <th>KETAMINE</th>\n",
              "      <th>LEGAL_HIGHS</th>\n",
              "      <th>LSD</th>\n",
              "      <th>METHADONE</th>\n",
              "      <th>MUSHROOMS</th>\n",
              "      <th>NICOTINE</th>\n",
              "      <th>SEMER</th>\n",
              "      <th>VOLATILE</th>\n",
              "    </tr>\n",
              "  </thead>\n",
              "  <tbody>\n",
              "    <tr>\n",
              "      <th>0</th>\n",
              "      <td>1</td>\n",
              "      <td>65+</td>\n",
              "      <td>female</td>\n",
              "      <td>-0.05921</td>\n",
              "      <td>0.96082</td>\n",
              "      <td>0.12600</td>\n",
              "      <td>CL5</td>\n",
              "      <td>CL2</td>\n",
              "      <td>CL0</td>\n",
              "      <td>CL2</td>\n",
              "      <td>CL6</td>\n",
              "      <td>CL0</td>\n",
              "      <td>CL5</td>\n",
              "      <td>CL0</td>\n",
              "      <td>CL0</td>\n",
              "      <td>CL0</td>\n",
              "      <td>CL0</td>\n",
              "      <td>CL0</td>\n",
              "      <td>CL0</td>\n",
              "      <td>CL0</td>\n",
              "      <td>CL0</td>\n",
              "      <td>CL0</td>\n",
              "      <td>CL2</td>\n",
              "      <td>CL0</td>\n",
              "      <td>CL0</td>\n",
              "    </tr>\n",
              "    <tr>\n",
              "      <th>1</th>\n",
              "      <td>2</td>\n",
              "      <td>25-34</td>\n",
              "      <td>male</td>\n",
              "      <td>1.98437</td>\n",
              "      <td>0.96082</td>\n",
              "      <td>-0.31685</td>\n",
              "      <td>CL5</td>\n",
              "      <td>CL2</td>\n",
              "      <td>CL2</td>\n",
              "      <td>CL0</td>\n",
              "      <td>CL6</td>\n",
              "      <td>CL4</td>\n",
              "      <td>CL6</td>\n",
              "      <td>CL3</td>\n",
              "      <td>CL0</td>\n",
              "      <td>CL4</td>\n",
              "      <td>CL0</td>\n",
              "      <td>CL2</td>\n",
              "      <td>CL0</td>\n",
              "      <td>CL2</td>\n",
              "      <td>CL3</td>\n",
              "      <td>CL0</td>\n",
              "      <td>CL4</td>\n",
              "      <td>CL0</td>\n",
              "      <td>CL0</td>\n",
              "    </tr>\n",
              "    <tr>\n",
              "      <th>2</th>\n",
              "      <td>3</td>\n",
              "      <td>65+</td>\n",
              "      <td>male</td>\n",
              "      <td>-0.05921</td>\n",
              "      <td>0.96082</td>\n",
              "      <td>-0.31685</td>\n",
              "      <td>CL6</td>\n",
              "      <td>CL0</td>\n",
              "      <td>CL0</td>\n",
              "      <td>CL0</td>\n",
              "      <td>CL6</td>\n",
              "      <td>CL3</td>\n",
              "      <td>CL4</td>\n",
              "      <td>CL0</td>\n",
              "      <td>CL0</td>\n",
              "      <td>CL0</td>\n",
              "      <td>CL0</td>\n",
              "      <td>CL0</td>\n",
              "      <td>CL0</td>\n",
              "      <td>CL0</td>\n",
              "      <td>CL0</td>\n",
              "      <td>CL1</td>\n",
              "      <td>CL0</td>\n",
              "      <td>CL0</td>\n",
              "      <td>CL0</td>\n",
              "    </tr>\n",
              "    <tr>\n",
              "      <th>3</th>\n",
              "      <td>4</td>\n",
              "      <td>65+</td>\n",
              "      <td>female</td>\n",
              "      <td>1.16365</td>\n",
              "      <td>0.96082</td>\n",
              "      <td>-0.31685</td>\n",
              "      <td>CL4</td>\n",
              "      <td>CL0</td>\n",
              "      <td>CL0</td>\n",
              "      <td>CL3</td>\n",
              "      <td>CL5</td>\n",
              "      <td>CL2</td>\n",
              "      <td>CL4</td>\n",
              "      <td>CL2</td>\n",
              "      <td>CL0</td>\n",
              "      <td>CL0</td>\n",
              "      <td>CL0</td>\n",
              "      <td>CL2</td>\n",
              "      <td>CL0</td>\n",
              "      <td>CL0</td>\n",
              "      <td>CL0</td>\n",
              "      <td>CL0</td>\n",
              "      <td>CL2</td>\n",
              "      <td>CL0</td>\n",
              "      <td>CL0</td>\n",
              "    </tr>\n",
              "    <tr>\n",
              "      <th>4</th>\n",
              "      <td>5</td>\n",
              "      <td>65+</td>\n",
              "      <td>female</td>\n",
              "      <td>1.98437</td>\n",
              "      <td>0.96082</td>\n",
              "      <td>-0.31685</td>\n",
              "      <td>CL4</td>\n",
              "      <td>CL1</td>\n",
              "      <td>CL1</td>\n",
              "      <td>CL0</td>\n",
              "      <td>CL6</td>\n",
              "      <td>CL3</td>\n",
              "      <td>CL6</td>\n",
              "      <td>CL0</td>\n",
              "      <td>CL0</td>\n",
              "      <td>CL1</td>\n",
              "      <td>CL0</td>\n",
              "      <td>CL0</td>\n",
              "      <td>CL1</td>\n",
              "      <td>CL0</td>\n",
              "      <td>CL0</td>\n",
              "      <td>CL2</td>\n",
              "      <td>CL2</td>\n",
              "      <td>CL0</td>\n",
              "      <td>CL0</td>\n",
              "    </tr>\n",
              "    <tr>\n",
              "      <th>...</th>\n",
              "      <td>...</td>\n",
              "      <td>...</td>\n",
              "      <td>...</td>\n",
              "      <td>...</td>\n",
              "      <td>...</td>\n",
              "      <td>...</td>\n",
              "      <td>...</td>\n",
              "      <td>...</td>\n",
              "      <td>...</td>\n",
              "      <td>...</td>\n",
              "      <td>...</td>\n",
              "      <td>...</td>\n",
              "      <td>...</td>\n",
              "      <td>...</td>\n",
              "      <td>...</td>\n",
              "      <td>...</td>\n",
              "      <td>...</td>\n",
              "      <td>...</td>\n",
              "      <td>...</td>\n",
              "      <td>...</td>\n",
              "      <td>...</td>\n",
              "      <td>...</td>\n",
              "      <td>...</td>\n",
              "      <td>...</td>\n",
              "      <td>...</td>\n",
              "    </tr>\n",
              "    <tr>\n",
              "      <th>1880</th>\n",
              "      <td>1884</td>\n",
              "      <td>65+</td>\n",
              "      <td>female</td>\n",
              "      <td>-0.61113</td>\n",
              "      <td>-0.57009</td>\n",
              "      <td>-0.31685</td>\n",
              "      <td>CL5</td>\n",
              "      <td>CL0</td>\n",
              "      <td>CL0</td>\n",
              "      <td>CL0</td>\n",
              "      <td>CL4</td>\n",
              "      <td>CL5</td>\n",
              "      <td>CL4</td>\n",
              "      <td>CL0</td>\n",
              "      <td>CL0</td>\n",
              "      <td>CL0</td>\n",
              "      <td>CL0</td>\n",
              "      <td>CL0</td>\n",
              "      <td>CL3</td>\n",
              "      <td>CL3</td>\n",
              "      <td>CL0</td>\n",
              "      <td>CL0</td>\n",
              "      <td>CL0</td>\n",
              "      <td>CL0</td>\n",
              "      <td>CL5</td>\n",
              "    </tr>\n",
              "    <tr>\n",
              "      <th>1881</th>\n",
              "      <td>1885</td>\n",
              "      <td>65+</td>\n",
              "      <td>male</td>\n",
              "      <td>-0.61113</td>\n",
              "      <td>-0.57009</td>\n",
              "      <td>-0.31685</td>\n",
              "      <td>CL5</td>\n",
              "      <td>CL0</td>\n",
              "      <td>CL0</td>\n",
              "      <td>CL0</td>\n",
              "      <td>CL5</td>\n",
              "      <td>CL3</td>\n",
              "      <td>CL4</td>\n",
              "      <td>CL0</td>\n",
              "      <td>CL0</td>\n",
              "      <td>CL2</td>\n",
              "      <td>CL0</td>\n",
              "      <td>CL0</td>\n",
              "      <td>CL3</td>\n",
              "      <td>CL5</td>\n",
              "      <td>CL4</td>\n",
              "      <td>CL4</td>\n",
              "      <td>CL5</td>\n",
              "      <td>CL0</td>\n",
              "      <td>CL0</td>\n",
              "    </tr>\n",
              "    <tr>\n",
              "      <th>1882</th>\n",
              "      <td>1886</td>\n",
              "      <td>25-34</td>\n",
              "      <td>female</td>\n",
              "      <td>0.45468</td>\n",
              "      <td>-0.57009</td>\n",
              "      <td>-0.31685</td>\n",
              "      <td>CL4</td>\n",
              "      <td>CL6</td>\n",
              "      <td>CL5</td>\n",
              "      <td>CL5</td>\n",
              "      <td>CL6</td>\n",
              "      <td>CL6</td>\n",
              "      <td>CL6</td>\n",
              "      <td>CL4</td>\n",
              "      <td>CL0</td>\n",
              "      <td>CL4</td>\n",
              "      <td>CL0</td>\n",
              "      <td>CL2</td>\n",
              "      <td>CL0</td>\n",
              "      <td>CL2</td>\n",
              "      <td>CL0</td>\n",
              "      <td>CL2</td>\n",
              "      <td>CL6</td>\n",
              "      <td>CL0</td>\n",
              "      <td>CL0</td>\n",
              "    </tr>\n",
              "    <tr>\n",
              "      <th>1883</th>\n",
              "      <td>1887</td>\n",
              "      <td>65+</td>\n",
              "      <td>female</td>\n",
              "      <td>-0.61113</td>\n",
              "      <td>-0.57009</td>\n",
              "      <td>-0.31685</td>\n",
              "      <td>CL5</td>\n",
              "      <td>CL0</td>\n",
              "      <td>CL0</td>\n",
              "      <td>CL0</td>\n",
              "      <td>CL6</td>\n",
              "      <td>CL6</td>\n",
              "      <td>CL5</td>\n",
              "      <td>CL0</td>\n",
              "      <td>CL0</td>\n",
              "      <td>CL3</td>\n",
              "      <td>CL0</td>\n",
              "      <td>CL0</td>\n",
              "      <td>CL3</td>\n",
              "      <td>CL3</td>\n",
              "      <td>CL0</td>\n",
              "      <td>CL3</td>\n",
              "      <td>CL4</td>\n",
              "      <td>CL0</td>\n",
              "      <td>CL0</td>\n",
              "    </tr>\n",
              "    <tr>\n",
              "      <th>1884</th>\n",
              "      <td>1888</td>\n",
              "      <td>65+</td>\n",
              "      <td>male</td>\n",
              "      <td>-0.61113</td>\n",
              "      <td>0.21128</td>\n",
              "      <td>-0.31685</td>\n",
              "      <td>CL4</td>\n",
              "      <td>CL3</td>\n",
              "      <td>CL0</td>\n",
              "      <td>CL3</td>\n",
              "      <td>CL6</td>\n",
              "      <td>CL3</td>\n",
              "      <td>CL6</td>\n",
              "      <td>CL3</td>\n",
              "      <td>CL0</td>\n",
              "      <td>CL3</td>\n",
              "      <td>CL0</td>\n",
              "      <td>CL0</td>\n",
              "      <td>CL3</td>\n",
              "      <td>CL3</td>\n",
              "      <td>CL0</td>\n",
              "      <td>CL3</td>\n",
              "      <td>CL6</td>\n",
              "      <td>CL0</td>\n",
              "      <td>CL2</td>\n",
              "    </tr>\n",
              "  </tbody>\n",
              "</table>\n",
              "<p>1885 rows × 25 columns</p>\n",
              "</div>"
            ],
            "text/plain": [
              "        ID    AGE  GENDER  EDUCATION  ...  MUSHROOMS  NICOTINE SEMER VOLATILE\n",
              "0        1    65+  female   -0.05921  ...        CL0       CL2   CL0      CL0\n",
              "1        2  25-34    male    1.98437  ...        CL0       CL4   CL0      CL0\n",
              "2        3    65+    male   -0.05921  ...        CL1       CL0   CL0      CL0\n",
              "3        4    65+  female    1.16365  ...        CL0       CL2   CL0      CL0\n",
              "4        5    65+  female    1.98437  ...        CL2       CL2   CL0      CL0\n",
              "...    ...    ...     ...        ...  ...        ...       ...   ...      ...\n",
              "1880  1884    65+  female   -0.61113  ...        CL0       CL0   CL0      CL5\n",
              "1881  1885    65+    male   -0.61113  ...        CL4       CL5   CL0      CL0\n",
              "1882  1886  25-34  female    0.45468  ...        CL2       CL6   CL0      CL0\n",
              "1883  1887    65+  female   -0.61113  ...        CL3       CL4   CL0      CL0\n",
              "1884  1888    65+    male   -0.61113  ...        CL3       CL6   CL0      CL2\n",
              "\n",
              "[1885 rows x 25 columns]"
            ]
          },
          "metadata": {
            "tags": []
          },
          "execution_count": 52
        }
      ]
    },
    {
      "cell_type": "code",
      "metadata": {
        "colab": {
          "base_uri": "https://localhost:8080/"
        },
        "id": "-5PDM3WzPI0O",
        "outputId": "065aa996-8169-4275-b53d-f5bbffb91c91"
      },
      "source": [
        "df['AGE'].unique()"
      ],
      "execution_count": null,
      "outputs": [
        {
          "output_type": "execute_result",
          "data": {
            "text/plain": [
              "array(['65+', '25-34', '45-54', '55-64'], dtype=object)"
            ]
          },
          "metadata": {
            "tags": []
          },
          "execution_count": 53
        }
      ]
    },
    {
      "cell_type": "code",
      "metadata": {
        "colab": {
          "base_uri": "https://localhost:8080/",
          "height": 549
        },
        "id": "9HN_YWuPKJ80",
        "outputId": "ae341e2e-068a-426d-82d7-53b38baa8c7b"
      },
      "source": [
        "#Classifying the education column with their respective levels of education\n",
        "df['EDUCATION']=df['EDUCATION'].apply(lambda x: 'left school before 16yrs' if x==-2.43591 else ('left school at 16yrs' if x==-1.73790 else ('left school at 17yrs' if x==-1.43719 else ('left school at 18yrs' if x==-1.22751 else ('some colledge/university, no certificate/degree' if x==-0.61113 else ('proffessional certificate/diploma' if x==-0.05921 else ('university degree' if x==0.45468 else ('masters degree' if x==1.16365 else 'Doctrate degree' ))))))))\n",
        "df.head(10)"
      ],
      "execution_count": null,
      "outputs": [
        {
          "output_type": "execute_result",
          "data": {
            "text/html": [
              "<div>\n",
              "<style scoped>\n",
              "    .dataframe tbody tr th:only-of-type {\n",
              "        vertical-align: middle;\n",
              "    }\n",
              "\n",
              "    .dataframe tbody tr th {\n",
              "        vertical-align: top;\n",
              "    }\n",
              "\n",
              "    .dataframe thead th {\n",
              "        text-align: right;\n",
              "    }\n",
              "</style>\n",
              "<table border=\"1\" class=\"dataframe\">\n",
              "  <thead>\n",
              "    <tr style=\"text-align: right;\">\n",
              "      <th></th>\n",
              "      <th>ID</th>\n",
              "      <th>AGE</th>\n",
              "      <th>GENDER</th>\n",
              "      <th>EDUCATION</th>\n",
              "      <th>COUNTRY</th>\n",
              "      <th>ETHNICITY</th>\n",
              "      <th>ALCOHOL</th>\n",
              "      <th>AMPHETAMINES</th>\n",
              "      <th>AMYL</th>\n",
              "      <th>BENZOS</th>\n",
              "      <th>CAFFEINE</th>\n",
              "      <th>CANNABIS</th>\n",
              "      <th>CHOCOLATE</th>\n",
              "      <th>COCAINE</th>\n",
              "      <th>CRACK</th>\n",
              "      <th>ECSTASY</th>\n",
              "      <th>HEROIN</th>\n",
              "      <th>KETAMINE</th>\n",
              "      <th>LEGAL_HIGHS</th>\n",
              "      <th>LSD</th>\n",
              "      <th>METHADONE</th>\n",
              "      <th>MUSHROOMS</th>\n",
              "      <th>NICOTINE</th>\n",
              "      <th>SEMER</th>\n",
              "      <th>VOLATILE</th>\n",
              "    </tr>\n",
              "  </thead>\n",
              "  <tbody>\n",
              "    <tr>\n",
              "      <th>0</th>\n",
              "      <td>1</td>\n",
              "      <td>65+</td>\n",
              "      <td>female</td>\n",
              "      <td>Doctrate degree</td>\n",
              "      <td>0.96082</td>\n",
              "      <td>0.12600</td>\n",
              "      <td>CL5</td>\n",
              "      <td>CL2</td>\n",
              "      <td>CL0</td>\n",
              "      <td>CL2</td>\n",
              "      <td>CL6</td>\n",
              "      <td>CL0</td>\n",
              "      <td>CL5</td>\n",
              "      <td>CL0</td>\n",
              "      <td>CL0</td>\n",
              "      <td>CL0</td>\n",
              "      <td>CL0</td>\n",
              "      <td>CL0</td>\n",
              "      <td>CL0</td>\n",
              "      <td>CL0</td>\n",
              "      <td>CL0</td>\n",
              "      <td>CL0</td>\n",
              "      <td>CL2</td>\n",
              "      <td>CL0</td>\n",
              "      <td>CL0</td>\n",
              "    </tr>\n",
              "    <tr>\n",
              "      <th>1</th>\n",
              "      <td>2</td>\n",
              "      <td>25-34</td>\n",
              "      <td>male</td>\n",
              "      <td>Doctrate degree</td>\n",
              "      <td>0.96082</td>\n",
              "      <td>-0.31685</td>\n",
              "      <td>CL5</td>\n",
              "      <td>CL2</td>\n",
              "      <td>CL2</td>\n",
              "      <td>CL0</td>\n",
              "      <td>CL6</td>\n",
              "      <td>CL4</td>\n",
              "      <td>CL6</td>\n",
              "      <td>CL3</td>\n",
              "      <td>CL0</td>\n",
              "      <td>CL4</td>\n",
              "      <td>CL0</td>\n",
              "      <td>CL2</td>\n",
              "      <td>CL0</td>\n",
              "      <td>CL2</td>\n",
              "      <td>CL3</td>\n",
              "      <td>CL0</td>\n",
              "      <td>CL4</td>\n",
              "      <td>CL0</td>\n",
              "      <td>CL0</td>\n",
              "    </tr>\n",
              "    <tr>\n",
              "      <th>2</th>\n",
              "      <td>3</td>\n",
              "      <td>65+</td>\n",
              "      <td>male</td>\n",
              "      <td>Doctrate degree</td>\n",
              "      <td>0.96082</td>\n",
              "      <td>-0.31685</td>\n",
              "      <td>CL6</td>\n",
              "      <td>CL0</td>\n",
              "      <td>CL0</td>\n",
              "      <td>CL0</td>\n",
              "      <td>CL6</td>\n",
              "      <td>CL3</td>\n",
              "      <td>CL4</td>\n",
              "      <td>CL0</td>\n",
              "      <td>CL0</td>\n",
              "      <td>CL0</td>\n",
              "      <td>CL0</td>\n",
              "      <td>CL0</td>\n",
              "      <td>CL0</td>\n",
              "      <td>CL0</td>\n",
              "      <td>CL0</td>\n",
              "      <td>CL1</td>\n",
              "      <td>CL0</td>\n",
              "      <td>CL0</td>\n",
              "      <td>CL0</td>\n",
              "    </tr>\n",
              "    <tr>\n",
              "      <th>3</th>\n",
              "      <td>4</td>\n",
              "      <td>65+</td>\n",
              "      <td>female</td>\n",
              "      <td>masters degree</td>\n",
              "      <td>0.96082</td>\n",
              "      <td>-0.31685</td>\n",
              "      <td>CL4</td>\n",
              "      <td>CL0</td>\n",
              "      <td>CL0</td>\n",
              "      <td>CL3</td>\n",
              "      <td>CL5</td>\n",
              "      <td>CL2</td>\n",
              "      <td>CL4</td>\n",
              "      <td>CL2</td>\n",
              "      <td>CL0</td>\n",
              "      <td>CL0</td>\n",
              "      <td>CL0</td>\n",
              "      <td>CL2</td>\n",
              "      <td>CL0</td>\n",
              "      <td>CL0</td>\n",
              "      <td>CL0</td>\n",
              "      <td>CL0</td>\n",
              "      <td>CL2</td>\n",
              "      <td>CL0</td>\n",
              "      <td>CL0</td>\n",
              "    </tr>\n",
              "    <tr>\n",
              "      <th>4</th>\n",
              "      <td>5</td>\n",
              "      <td>65+</td>\n",
              "      <td>female</td>\n",
              "      <td>Doctrate degree</td>\n",
              "      <td>0.96082</td>\n",
              "      <td>-0.31685</td>\n",
              "      <td>CL4</td>\n",
              "      <td>CL1</td>\n",
              "      <td>CL1</td>\n",
              "      <td>CL0</td>\n",
              "      <td>CL6</td>\n",
              "      <td>CL3</td>\n",
              "      <td>CL6</td>\n",
              "      <td>CL0</td>\n",
              "      <td>CL0</td>\n",
              "      <td>CL1</td>\n",
              "      <td>CL0</td>\n",
              "      <td>CL0</td>\n",
              "      <td>CL1</td>\n",
              "      <td>CL0</td>\n",
              "      <td>CL0</td>\n",
              "      <td>CL2</td>\n",
              "      <td>CL2</td>\n",
              "      <td>CL0</td>\n",
              "      <td>CL0</td>\n",
              "    </tr>\n",
              "    <tr>\n",
              "      <th>5</th>\n",
              "      <td>6</td>\n",
              "      <td>65+</td>\n",
              "      <td>female</td>\n",
              "      <td>left school at 18yrs</td>\n",
              "      <td>0.24923</td>\n",
              "      <td>-0.31685</td>\n",
              "      <td>CL2</td>\n",
              "      <td>CL0</td>\n",
              "      <td>CL0</td>\n",
              "      <td>CL0</td>\n",
              "      <td>CL6</td>\n",
              "      <td>CL0</td>\n",
              "      <td>CL4</td>\n",
              "      <td>CL0</td>\n",
              "      <td>CL0</td>\n",
              "      <td>CL0</td>\n",
              "      <td>CL0</td>\n",
              "      <td>CL0</td>\n",
              "      <td>CL0</td>\n",
              "      <td>CL0</td>\n",
              "      <td>CL0</td>\n",
              "      <td>CL0</td>\n",
              "      <td>CL6</td>\n",
              "      <td>CL0</td>\n",
              "      <td>CL0</td>\n",
              "    </tr>\n",
              "    <tr>\n",
              "      <th>6</th>\n",
              "      <td>7</td>\n",
              "      <td>45-54</td>\n",
              "      <td>male</td>\n",
              "      <td>masters degree</td>\n",
              "      <td>-0.57009</td>\n",
              "      <td>-0.31685</td>\n",
              "      <td>CL6</td>\n",
              "      <td>CL0</td>\n",
              "      <td>CL0</td>\n",
              "      <td>CL0</td>\n",
              "      <td>CL6</td>\n",
              "      <td>CL1</td>\n",
              "      <td>CL5</td>\n",
              "      <td>CL0</td>\n",
              "      <td>CL0</td>\n",
              "      <td>CL0</td>\n",
              "      <td>CL0</td>\n",
              "      <td>CL0</td>\n",
              "      <td>CL0</td>\n",
              "      <td>CL0</td>\n",
              "      <td>CL0</td>\n",
              "      <td>CL0</td>\n",
              "      <td>CL6</td>\n",
              "      <td>CL0</td>\n",
              "      <td>CL0</td>\n",
              "    </tr>\n",
              "    <tr>\n",
              "      <th>7</th>\n",
              "      <td>8</td>\n",
              "      <td>65+</td>\n",
              "      <td>male</td>\n",
              "      <td>left school at 16yrs</td>\n",
              "      <td>0.96082</td>\n",
              "      <td>-0.31685</td>\n",
              "      <td>CL5</td>\n",
              "      <td>CL0</td>\n",
              "      <td>CL0</td>\n",
              "      <td>CL0</td>\n",
              "      <td>CL6</td>\n",
              "      <td>CL0</td>\n",
              "      <td>CL4</td>\n",
              "      <td>CL0</td>\n",
              "      <td>CL0</td>\n",
              "      <td>CL0</td>\n",
              "      <td>CL0</td>\n",
              "      <td>CL0</td>\n",
              "      <td>CL0</td>\n",
              "      <td>CL0</td>\n",
              "      <td>CL0</td>\n",
              "      <td>CL0</td>\n",
              "      <td>CL0</td>\n",
              "      <td>CL0</td>\n",
              "      <td>CL0</td>\n",
              "    </tr>\n",
              "    <tr>\n",
              "      <th>8</th>\n",
              "      <td>9</td>\n",
              "      <td>65+</td>\n",
              "      <td>female</td>\n",
              "      <td>Doctrate degree</td>\n",
              "      <td>0.24923</td>\n",
              "      <td>-0.31685</td>\n",
              "      <td>CL4</td>\n",
              "      <td>CL0</td>\n",
              "      <td>CL0</td>\n",
              "      <td>CL0</td>\n",
              "      <td>CL6</td>\n",
              "      <td>CL0</td>\n",
              "      <td>CL6</td>\n",
              "      <td>CL0</td>\n",
              "      <td>CL0</td>\n",
              "      <td>CL0</td>\n",
              "      <td>CL0</td>\n",
              "      <td>CL0</td>\n",
              "      <td>CL0</td>\n",
              "      <td>CL0</td>\n",
              "      <td>CL0</td>\n",
              "      <td>CL0</td>\n",
              "      <td>CL6</td>\n",
              "      <td>CL0</td>\n",
              "      <td>CL0</td>\n",
              "    </tr>\n",
              "    <tr>\n",
              "      <th>9</th>\n",
              "      <td>10</td>\n",
              "      <td>55-64</td>\n",
              "      <td>male</td>\n",
              "      <td>masters degree</td>\n",
              "      <td>0.96082</td>\n",
              "      <td>-0.31685</td>\n",
              "      <td>CL6</td>\n",
              "      <td>CL1</td>\n",
              "      <td>CL0</td>\n",
              "      <td>CL1</td>\n",
              "      <td>CL6</td>\n",
              "      <td>CL1</td>\n",
              "      <td>CL6</td>\n",
              "      <td>CL0</td>\n",
              "      <td>CL0</td>\n",
              "      <td>CL0</td>\n",
              "      <td>CL0</td>\n",
              "      <td>CL0</td>\n",
              "      <td>CL0</td>\n",
              "      <td>CL0</td>\n",
              "      <td>CL0</td>\n",
              "      <td>CL0</td>\n",
              "      <td>CL6</td>\n",
              "      <td>CL0</td>\n",
              "      <td>CL0</td>\n",
              "    </tr>\n",
              "  </tbody>\n",
              "</table>\n",
              "</div>"
            ],
            "text/plain": [
              "   ID    AGE  GENDER             EDUCATION  ...  MUSHROOMS  NICOTINE SEMER VOLATILE\n",
              "0   1    65+  female       Doctrate degree  ...        CL0       CL2   CL0      CL0\n",
              "1   2  25-34    male       Doctrate degree  ...        CL0       CL4   CL0      CL0\n",
              "2   3    65+    male       Doctrate degree  ...        CL1       CL0   CL0      CL0\n",
              "3   4    65+  female        masters degree  ...        CL0       CL2   CL0      CL0\n",
              "4   5    65+  female       Doctrate degree  ...        CL2       CL2   CL0      CL0\n",
              "5   6    65+  female  left school at 18yrs  ...        CL0       CL6   CL0      CL0\n",
              "6   7  45-54    male        masters degree  ...        CL0       CL6   CL0      CL0\n",
              "7   8    65+    male  left school at 16yrs  ...        CL0       CL0   CL0      CL0\n",
              "8   9    65+  female       Doctrate degree  ...        CL0       CL6   CL0      CL0\n",
              "9  10  55-64    male        masters degree  ...        CL0       CL6   CL0      CL0\n",
              "\n",
              "[10 rows x 25 columns]"
            ]
          },
          "metadata": {
            "tags": []
          },
          "execution_count": 54
        }
      ]
    },
    {
      "cell_type": "code",
      "metadata": {
        "colab": {
          "base_uri": "https://localhost:8080/",
          "height": 549
        },
        "id": "y1rYILP2OrVJ",
        "outputId": "a83c47cb-97bd-48e4-bbce-271f1df0eb05"
      },
      "source": [
        "#Classifying country column with their respective countries\n",
        "df['COUNTRY']=df['COUNTRY'].apply(lambda x: 'Australia' if x==-0.09765 else ('Canada' if x==0.24923 else ('New Zealand' if x==-0.46841 else ('other' if x==-0.28519 else ('republic of Ireland' if x==0.21128  else ('UK' if  x==0.96082 else 'USA' ))))))\n",
        "df.head(10)"
      ],
      "execution_count": null,
      "outputs": [
        {
          "output_type": "execute_result",
          "data": {
            "text/html": [
              "<div>\n",
              "<style scoped>\n",
              "    .dataframe tbody tr th:only-of-type {\n",
              "        vertical-align: middle;\n",
              "    }\n",
              "\n",
              "    .dataframe tbody tr th {\n",
              "        vertical-align: top;\n",
              "    }\n",
              "\n",
              "    .dataframe thead th {\n",
              "        text-align: right;\n",
              "    }\n",
              "</style>\n",
              "<table border=\"1\" class=\"dataframe\">\n",
              "  <thead>\n",
              "    <tr style=\"text-align: right;\">\n",
              "      <th></th>\n",
              "      <th>ID</th>\n",
              "      <th>AGE</th>\n",
              "      <th>GENDER</th>\n",
              "      <th>EDUCATION</th>\n",
              "      <th>COUNTRY</th>\n",
              "      <th>ETHNICITY</th>\n",
              "      <th>ALCOHOL</th>\n",
              "      <th>AMPHETAMINES</th>\n",
              "      <th>AMYL</th>\n",
              "      <th>BENZOS</th>\n",
              "      <th>CAFFEINE</th>\n",
              "      <th>CANNABIS</th>\n",
              "      <th>CHOCOLATE</th>\n",
              "      <th>COCAINE</th>\n",
              "      <th>CRACK</th>\n",
              "      <th>ECSTASY</th>\n",
              "      <th>HEROIN</th>\n",
              "      <th>KETAMINE</th>\n",
              "      <th>LEGAL_HIGHS</th>\n",
              "      <th>LSD</th>\n",
              "      <th>METHADONE</th>\n",
              "      <th>MUSHROOMS</th>\n",
              "      <th>NICOTINE</th>\n",
              "      <th>SEMER</th>\n",
              "      <th>VOLATILE</th>\n",
              "    </tr>\n",
              "  </thead>\n",
              "  <tbody>\n",
              "    <tr>\n",
              "      <th>0</th>\n",
              "      <td>1</td>\n",
              "      <td>65+</td>\n",
              "      <td>female</td>\n",
              "      <td>Doctrate degree</td>\n",
              "      <td>USA</td>\n",
              "      <td>0.12600</td>\n",
              "      <td>CL5</td>\n",
              "      <td>CL2</td>\n",
              "      <td>CL0</td>\n",
              "      <td>CL2</td>\n",
              "      <td>CL6</td>\n",
              "      <td>CL0</td>\n",
              "      <td>CL5</td>\n",
              "      <td>CL0</td>\n",
              "      <td>CL0</td>\n",
              "      <td>CL0</td>\n",
              "      <td>CL0</td>\n",
              "      <td>CL0</td>\n",
              "      <td>CL0</td>\n",
              "      <td>CL0</td>\n",
              "      <td>CL0</td>\n",
              "      <td>CL0</td>\n",
              "      <td>CL2</td>\n",
              "      <td>CL0</td>\n",
              "      <td>CL0</td>\n",
              "    </tr>\n",
              "    <tr>\n",
              "      <th>1</th>\n",
              "      <td>2</td>\n",
              "      <td>25-34</td>\n",
              "      <td>male</td>\n",
              "      <td>Doctrate degree</td>\n",
              "      <td>USA</td>\n",
              "      <td>-0.31685</td>\n",
              "      <td>CL5</td>\n",
              "      <td>CL2</td>\n",
              "      <td>CL2</td>\n",
              "      <td>CL0</td>\n",
              "      <td>CL6</td>\n",
              "      <td>CL4</td>\n",
              "      <td>CL6</td>\n",
              "      <td>CL3</td>\n",
              "      <td>CL0</td>\n",
              "      <td>CL4</td>\n",
              "      <td>CL0</td>\n",
              "      <td>CL2</td>\n",
              "      <td>CL0</td>\n",
              "      <td>CL2</td>\n",
              "      <td>CL3</td>\n",
              "      <td>CL0</td>\n",
              "      <td>CL4</td>\n",
              "      <td>CL0</td>\n",
              "      <td>CL0</td>\n",
              "    </tr>\n",
              "    <tr>\n",
              "      <th>2</th>\n",
              "      <td>3</td>\n",
              "      <td>65+</td>\n",
              "      <td>male</td>\n",
              "      <td>Doctrate degree</td>\n",
              "      <td>USA</td>\n",
              "      <td>-0.31685</td>\n",
              "      <td>CL6</td>\n",
              "      <td>CL0</td>\n",
              "      <td>CL0</td>\n",
              "      <td>CL0</td>\n",
              "      <td>CL6</td>\n",
              "      <td>CL3</td>\n",
              "      <td>CL4</td>\n",
              "      <td>CL0</td>\n",
              "      <td>CL0</td>\n",
              "      <td>CL0</td>\n",
              "      <td>CL0</td>\n",
              "      <td>CL0</td>\n",
              "      <td>CL0</td>\n",
              "      <td>CL0</td>\n",
              "      <td>CL0</td>\n",
              "      <td>CL1</td>\n",
              "      <td>CL0</td>\n",
              "      <td>CL0</td>\n",
              "      <td>CL0</td>\n",
              "    </tr>\n",
              "    <tr>\n",
              "      <th>3</th>\n",
              "      <td>4</td>\n",
              "      <td>65+</td>\n",
              "      <td>female</td>\n",
              "      <td>masters degree</td>\n",
              "      <td>USA</td>\n",
              "      <td>-0.31685</td>\n",
              "      <td>CL4</td>\n",
              "      <td>CL0</td>\n",
              "      <td>CL0</td>\n",
              "      <td>CL3</td>\n",
              "      <td>CL5</td>\n",
              "      <td>CL2</td>\n",
              "      <td>CL4</td>\n",
              "      <td>CL2</td>\n",
              "      <td>CL0</td>\n",
              "      <td>CL0</td>\n",
              "      <td>CL0</td>\n",
              "      <td>CL2</td>\n",
              "      <td>CL0</td>\n",
              "      <td>CL0</td>\n",
              "      <td>CL0</td>\n",
              "      <td>CL0</td>\n",
              "      <td>CL2</td>\n",
              "      <td>CL0</td>\n",
              "      <td>CL0</td>\n",
              "    </tr>\n",
              "    <tr>\n",
              "      <th>4</th>\n",
              "      <td>5</td>\n",
              "      <td>65+</td>\n",
              "      <td>female</td>\n",
              "      <td>Doctrate degree</td>\n",
              "      <td>USA</td>\n",
              "      <td>-0.31685</td>\n",
              "      <td>CL4</td>\n",
              "      <td>CL1</td>\n",
              "      <td>CL1</td>\n",
              "      <td>CL0</td>\n",
              "      <td>CL6</td>\n",
              "      <td>CL3</td>\n",
              "      <td>CL6</td>\n",
              "      <td>CL0</td>\n",
              "      <td>CL0</td>\n",
              "      <td>CL1</td>\n",
              "      <td>CL0</td>\n",
              "      <td>CL0</td>\n",
              "      <td>CL1</td>\n",
              "      <td>CL0</td>\n",
              "      <td>CL0</td>\n",
              "      <td>CL2</td>\n",
              "      <td>CL2</td>\n",
              "      <td>CL0</td>\n",
              "      <td>CL0</td>\n",
              "    </tr>\n",
              "    <tr>\n",
              "      <th>5</th>\n",
              "      <td>6</td>\n",
              "      <td>65+</td>\n",
              "      <td>female</td>\n",
              "      <td>left school at 18yrs</td>\n",
              "      <td>Canada</td>\n",
              "      <td>-0.31685</td>\n",
              "      <td>CL2</td>\n",
              "      <td>CL0</td>\n",
              "      <td>CL0</td>\n",
              "      <td>CL0</td>\n",
              "      <td>CL6</td>\n",
              "      <td>CL0</td>\n",
              "      <td>CL4</td>\n",
              "      <td>CL0</td>\n",
              "      <td>CL0</td>\n",
              "      <td>CL0</td>\n",
              "      <td>CL0</td>\n",
              "      <td>CL0</td>\n",
              "      <td>CL0</td>\n",
              "      <td>CL0</td>\n",
              "      <td>CL0</td>\n",
              "      <td>CL0</td>\n",
              "      <td>CL6</td>\n",
              "      <td>CL0</td>\n",
              "      <td>CL0</td>\n",
              "    </tr>\n",
              "    <tr>\n",
              "      <th>6</th>\n",
              "      <td>7</td>\n",
              "      <td>45-54</td>\n",
              "      <td>male</td>\n",
              "      <td>masters degree</td>\n",
              "      <td>USA</td>\n",
              "      <td>-0.31685</td>\n",
              "      <td>CL6</td>\n",
              "      <td>CL0</td>\n",
              "      <td>CL0</td>\n",
              "      <td>CL0</td>\n",
              "      <td>CL6</td>\n",
              "      <td>CL1</td>\n",
              "      <td>CL5</td>\n",
              "      <td>CL0</td>\n",
              "      <td>CL0</td>\n",
              "      <td>CL0</td>\n",
              "      <td>CL0</td>\n",
              "      <td>CL0</td>\n",
              "      <td>CL0</td>\n",
              "      <td>CL0</td>\n",
              "      <td>CL0</td>\n",
              "      <td>CL0</td>\n",
              "      <td>CL6</td>\n",
              "      <td>CL0</td>\n",
              "      <td>CL0</td>\n",
              "    </tr>\n",
              "    <tr>\n",
              "      <th>7</th>\n",
              "      <td>8</td>\n",
              "      <td>65+</td>\n",
              "      <td>male</td>\n",
              "      <td>left school at 16yrs</td>\n",
              "      <td>USA</td>\n",
              "      <td>-0.31685</td>\n",
              "      <td>CL5</td>\n",
              "      <td>CL0</td>\n",
              "      <td>CL0</td>\n",
              "      <td>CL0</td>\n",
              "      <td>CL6</td>\n",
              "      <td>CL0</td>\n",
              "      <td>CL4</td>\n",
              "      <td>CL0</td>\n",
              "      <td>CL0</td>\n",
              "      <td>CL0</td>\n",
              "      <td>CL0</td>\n",
              "      <td>CL0</td>\n",
              "      <td>CL0</td>\n",
              "      <td>CL0</td>\n",
              "      <td>CL0</td>\n",
              "      <td>CL0</td>\n",
              "      <td>CL0</td>\n",
              "      <td>CL0</td>\n",
              "      <td>CL0</td>\n",
              "    </tr>\n",
              "    <tr>\n",
              "      <th>8</th>\n",
              "      <td>9</td>\n",
              "      <td>65+</td>\n",
              "      <td>female</td>\n",
              "      <td>Doctrate degree</td>\n",
              "      <td>Canada</td>\n",
              "      <td>-0.31685</td>\n",
              "      <td>CL4</td>\n",
              "      <td>CL0</td>\n",
              "      <td>CL0</td>\n",
              "      <td>CL0</td>\n",
              "      <td>CL6</td>\n",
              "      <td>CL0</td>\n",
              "      <td>CL6</td>\n",
              "      <td>CL0</td>\n",
              "      <td>CL0</td>\n",
              "      <td>CL0</td>\n",
              "      <td>CL0</td>\n",
              "      <td>CL0</td>\n",
              "      <td>CL0</td>\n",
              "      <td>CL0</td>\n",
              "      <td>CL0</td>\n",
              "      <td>CL0</td>\n",
              "      <td>CL6</td>\n",
              "      <td>CL0</td>\n",
              "      <td>CL0</td>\n",
              "    </tr>\n",
              "    <tr>\n",
              "      <th>9</th>\n",
              "      <td>10</td>\n",
              "      <td>55-64</td>\n",
              "      <td>male</td>\n",
              "      <td>masters degree</td>\n",
              "      <td>USA</td>\n",
              "      <td>-0.31685</td>\n",
              "      <td>CL6</td>\n",
              "      <td>CL1</td>\n",
              "      <td>CL0</td>\n",
              "      <td>CL1</td>\n",
              "      <td>CL6</td>\n",
              "      <td>CL1</td>\n",
              "      <td>CL6</td>\n",
              "      <td>CL0</td>\n",
              "      <td>CL0</td>\n",
              "      <td>CL0</td>\n",
              "      <td>CL0</td>\n",
              "      <td>CL0</td>\n",
              "      <td>CL0</td>\n",
              "      <td>CL0</td>\n",
              "      <td>CL0</td>\n",
              "      <td>CL0</td>\n",
              "      <td>CL6</td>\n",
              "      <td>CL0</td>\n",
              "      <td>CL0</td>\n",
              "    </tr>\n",
              "  </tbody>\n",
              "</table>\n",
              "</div>"
            ],
            "text/plain": [
              "   ID    AGE  GENDER             EDUCATION  ... MUSHROOMS  NICOTINE SEMER VOLATILE\n",
              "0   1    65+  female       Doctrate degree  ...       CL0       CL2   CL0      CL0\n",
              "1   2  25-34    male       Doctrate degree  ...       CL0       CL4   CL0      CL0\n",
              "2   3    65+    male       Doctrate degree  ...       CL1       CL0   CL0      CL0\n",
              "3   4    65+  female        masters degree  ...       CL0       CL2   CL0      CL0\n",
              "4   5    65+  female       Doctrate degree  ...       CL2       CL2   CL0      CL0\n",
              "5   6    65+  female  left school at 18yrs  ...       CL0       CL6   CL0      CL0\n",
              "6   7  45-54    male        masters degree  ...       CL0       CL6   CL0      CL0\n",
              "7   8    65+    male  left school at 16yrs  ...       CL0       CL0   CL0      CL0\n",
              "8   9    65+  female       Doctrate degree  ...       CL0       CL6   CL0      CL0\n",
              "9  10  55-64    male        masters degree  ...       CL0       CL6   CL0      CL0\n",
              "\n",
              "[10 rows x 25 columns]"
            ]
          },
          "metadata": {
            "tags": []
          },
          "execution_count": 55
        }
      ]
    },
    {
      "cell_type": "code",
      "metadata": {
        "colab": {
          "base_uri": "https://localhost:8080/",
          "height": 549
        },
        "id": "yIkmPVhYRfUb",
        "outputId": "0c5dcff1-5f70-42d1-de64-e57f75728833"
      },
      "source": [
        "#Classifying ethnicity column irrespective of their ethnic group\n",
        "df['ETHNICITY']=df['ETHNICITY'].apply(lambda x: 'Asian' if x==-0.50212 else ('Black' if x==-1.10702 else ('Mixed-Black/Asian' if x==1.90725 else ('Mixed-White/Asian' if x==0.12600 else ('Mixed-White/Black' if x==-0.22166 else ('Other' if x==0.11440 else 'White'))))))\n",
        "df.head(10)"
      ],
      "execution_count": null,
      "outputs": [
        {
          "output_type": "execute_result",
          "data": {
            "text/html": [
              "<div>\n",
              "<style scoped>\n",
              "    .dataframe tbody tr th:only-of-type {\n",
              "        vertical-align: middle;\n",
              "    }\n",
              "\n",
              "    .dataframe tbody tr th {\n",
              "        vertical-align: top;\n",
              "    }\n",
              "\n",
              "    .dataframe thead th {\n",
              "        text-align: right;\n",
              "    }\n",
              "</style>\n",
              "<table border=\"1\" class=\"dataframe\">\n",
              "  <thead>\n",
              "    <tr style=\"text-align: right;\">\n",
              "      <th></th>\n",
              "      <th>ID</th>\n",
              "      <th>AGE</th>\n",
              "      <th>GENDER</th>\n",
              "      <th>EDUCATION</th>\n",
              "      <th>COUNTRY</th>\n",
              "      <th>ETHNICITY</th>\n",
              "      <th>ALCOHOL</th>\n",
              "      <th>AMPHETAMINES</th>\n",
              "      <th>AMYL</th>\n",
              "      <th>BENZOS</th>\n",
              "      <th>CAFFEINE</th>\n",
              "      <th>CANNABIS</th>\n",
              "      <th>CHOCOLATE</th>\n",
              "      <th>COCAINE</th>\n",
              "      <th>CRACK</th>\n",
              "      <th>ECSTASY</th>\n",
              "      <th>HEROIN</th>\n",
              "      <th>KETAMINE</th>\n",
              "      <th>LEGAL_HIGHS</th>\n",
              "      <th>LSD</th>\n",
              "      <th>METHADONE</th>\n",
              "      <th>MUSHROOMS</th>\n",
              "      <th>NICOTINE</th>\n",
              "      <th>SEMER</th>\n",
              "      <th>VOLATILE</th>\n",
              "    </tr>\n",
              "  </thead>\n",
              "  <tbody>\n",
              "    <tr>\n",
              "      <th>0</th>\n",
              "      <td>1</td>\n",
              "      <td>65+</td>\n",
              "      <td>female</td>\n",
              "      <td>Doctrate degree</td>\n",
              "      <td>USA</td>\n",
              "      <td>Mixed-White/Asian</td>\n",
              "      <td>CL5</td>\n",
              "      <td>CL2</td>\n",
              "      <td>CL0</td>\n",
              "      <td>CL2</td>\n",
              "      <td>CL6</td>\n",
              "      <td>CL0</td>\n",
              "      <td>CL5</td>\n",
              "      <td>CL0</td>\n",
              "      <td>CL0</td>\n",
              "      <td>CL0</td>\n",
              "      <td>CL0</td>\n",
              "      <td>CL0</td>\n",
              "      <td>CL0</td>\n",
              "      <td>CL0</td>\n",
              "      <td>CL0</td>\n",
              "      <td>CL0</td>\n",
              "      <td>CL2</td>\n",
              "      <td>CL0</td>\n",
              "      <td>CL0</td>\n",
              "    </tr>\n",
              "    <tr>\n",
              "      <th>1</th>\n",
              "      <td>2</td>\n",
              "      <td>25-34</td>\n",
              "      <td>male</td>\n",
              "      <td>Doctrate degree</td>\n",
              "      <td>USA</td>\n",
              "      <td>White</td>\n",
              "      <td>CL5</td>\n",
              "      <td>CL2</td>\n",
              "      <td>CL2</td>\n",
              "      <td>CL0</td>\n",
              "      <td>CL6</td>\n",
              "      <td>CL4</td>\n",
              "      <td>CL6</td>\n",
              "      <td>CL3</td>\n",
              "      <td>CL0</td>\n",
              "      <td>CL4</td>\n",
              "      <td>CL0</td>\n",
              "      <td>CL2</td>\n",
              "      <td>CL0</td>\n",
              "      <td>CL2</td>\n",
              "      <td>CL3</td>\n",
              "      <td>CL0</td>\n",
              "      <td>CL4</td>\n",
              "      <td>CL0</td>\n",
              "      <td>CL0</td>\n",
              "    </tr>\n",
              "    <tr>\n",
              "      <th>2</th>\n",
              "      <td>3</td>\n",
              "      <td>65+</td>\n",
              "      <td>male</td>\n",
              "      <td>Doctrate degree</td>\n",
              "      <td>USA</td>\n",
              "      <td>White</td>\n",
              "      <td>CL6</td>\n",
              "      <td>CL0</td>\n",
              "      <td>CL0</td>\n",
              "      <td>CL0</td>\n",
              "      <td>CL6</td>\n",
              "      <td>CL3</td>\n",
              "      <td>CL4</td>\n",
              "      <td>CL0</td>\n",
              "      <td>CL0</td>\n",
              "      <td>CL0</td>\n",
              "      <td>CL0</td>\n",
              "      <td>CL0</td>\n",
              "      <td>CL0</td>\n",
              "      <td>CL0</td>\n",
              "      <td>CL0</td>\n",
              "      <td>CL1</td>\n",
              "      <td>CL0</td>\n",
              "      <td>CL0</td>\n",
              "      <td>CL0</td>\n",
              "    </tr>\n",
              "    <tr>\n",
              "      <th>3</th>\n",
              "      <td>4</td>\n",
              "      <td>65+</td>\n",
              "      <td>female</td>\n",
              "      <td>masters degree</td>\n",
              "      <td>USA</td>\n",
              "      <td>White</td>\n",
              "      <td>CL4</td>\n",
              "      <td>CL0</td>\n",
              "      <td>CL0</td>\n",
              "      <td>CL3</td>\n",
              "      <td>CL5</td>\n",
              "      <td>CL2</td>\n",
              "      <td>CL4</td>\n",
              "      <td>CL2</td>\n",
              "      <td>CL0</td>\n",
              "      <td>CL0</td>\n",
              "      <td>CL0</td>\n",
              "      <td>CL2</td>\n",
              "      <td>CL0</td>\n",
              "      <td>CL0</td>\n",
              "      <td>CL0</td>\n",
              "      <td>CL0</td>\n",
              "      <td>CL2</td>\n",
              "      <td>CL0</td>\n",
              "      <td>CL0</td>\n",
              "    </tr>\n",
              "    <tr>\n",
              "      <th>4</th>\n",
              "      <td>5</td>\n",
              "      <td>65+</td>\n",
              "      <td>female</td>\n",
              "      <td>Doctrate degree</td>\n",
              "      <td>USA</td>\n",
              "      <td>White</td>\n",
              "      <td>CL4</td>\n",
              "      <td>CL1</td>\n",
              "      <td>CL1</td>\n",
              "      <td>CL0</td>\n",
              "      <td>CL6</td>\n",
              "      <td>CL3</td>\n",
              "      <td>CL6</td>\n",
              "      <td>CL0</td>\n",
              "      <td>CL0</td>\n",
              "      <td>CL1</td>\n",
              "      <td>CL0</td>\n",
              "      <td>CL0</td>\n",
              "      <td>CL1</td>\n",
              "      <td>CL0</td>\n",
              "      <td>CL0</td>\n",
              "      <td>CL2</td>\n",
              "      <td>CL2</td>\n",
              "      <td>CL0</td>\n",
              "      <td>CL0</td>\n",
              "    </tr>\n",
              "    <tr>\n",
              "      <th>5</th>\n",
              "      <td>6</td>\n",
              "      <td>65+</td>\n",
              "      <td>female</td>\n",
              "      <td>left school at 18yrs</td>\n",
              "      <td>Canada</td>\n",
              "      <td>White</td>\n",
              "      <td>CL2</td>\n",
              "      <td>CL0</td>\n",
              "      <td>CL0</td>\n",
              "      <td>CL0</td>\n",
              "      <td>CL6</td>\n",
              "      <td>CL0</td>\n",
              "      <td>CL4</td>\n",
              "      <td>CL0</td>\n",
              "      <td>CL0</td>\n",
              "      <td>CL0</td>\n",
              "      <td>CL0</td>\n",
              "      <td>CL0</td>\n",
              "      <td>CL0</td>\n",
              "      <td>CL0</td>\n",
              "      <td>CL0</td>\n",
              "      <td>CL0</td>\n",
              "      <td>CL6</td>\n",
              "      <td>CL0</td>\n",
              "      <td>CL0</td>\n",
              "    </tr>\n",
              "    <tr>\n",
              "      <th>6</th>\n",
              "      <td>7</td>\n",
              "      <td>45-54</td>\n",
              "      <td>male</td>\n",
              "      <td>masters degree</td>\n",
              "      <td>USA</td>\n",
              "      <td>White</td>\n",
              "      <td>CL6</td>\n",
              "      <td>CL0</td>\n",
              "      <td>CL0</td>\n",
              "      <td>CL0</td>\n",
              "      <td>CL6</td>\n",
              "      <td>CL1</td>\n",
              "      <td>CL5</td>\n",
              "      <td>CL0</td>\n",
              "      <td>CL0</td>\n",
              "      <td>CL0</td>\n",
              "      <td>CL0</td>\n",
              "      <td>CL0</td>\n",
              "      <td>CL0</td>\n",
              "      <td>CL0</td>\n",
              "      <td>CL0</td>\n",
              "      <td>CL0</td>\n",
              "      <td>CL6</td>\n",
              "      <td>CL0</td>\n",
              "      <td>CL0</td>\n",
              "    </tr>\n",
              "    <tr>\n",
              "      <th>7</th>\n",
              "      <td>8</td>\n",
              "      <td>65+</td>\n",
              "      <td>male</td>\n",
              "      <td>left school at 16yrs</td>\n",
              "      <td>USA</td>\n",
              "      <td>White</td>\n",
              "      <td>CL5</td>\n",
              "      <td>CL0</td>\n",
              "      <td>CL0</td>\n",
              "      <td>CL0</td>\n",
              "      <td>CL6</td>\n",
              "      <td>CL0</td>\n",
              "      <td>CL4</td>\n",
              "      <td>CL0</td>\n",
              "      <td>CL0</td>\n",
              "      <td>CL0</td>\n",
              "      <td>CL0</td>\n",
              "      <td>CL0</td>\n",
              "      <td>CL0</td>\n",
              "      <td>CL0</td>\n",
              "      <td>CL0</td>\n",
              "      <td>CL0</td>\n",
              "      <td>CL0</td>\n",
              "      <td>CL0</td>\n",
              "      <td>CL0</td>\n",
              "    </tr>\n",
              "    <tr>\n",
              "      <th>8</th>\n",
              "      <td>9</td>\n",
              "      <td>65+</td>\n",
              "      <td>female</td>\n",
              "      <td>Doctrate degree</td>\n",
              "      <td>Canada</td>\n",
              "      <td>White</td>\n",
              "      <td>CL4</td>\n",
              "      <td>CL0</td>\n",
              "      <td>CL0</td>\n",
              "      <td>CL0</td>\n",
              "      <td>CL6</td>\n",
              "      <td>CL0</td>\n",
              "      <td>CL6</td>\n",
              "      <td>CL0</td>\n",
              "      <td>CL0</td>\n",
              "      <td>CL0</td>\n",
              "      <td>CL0</td>\n",
              "      <td>CL0</td>\n",
              "      <td>CL0</td>\n",
              "      <td>CL0</td>\n",
              "      <td>CL0</td>\n",
              "      <td>CL0</td>\n",
              "      <td>CL6</td>\n",
              "      <td>CL0</td>\n",
              "      <td>CL0</td>\n",
              "    </tr>\n",
              "    <tr>\n",
              "      <th>9</th>\n",
              "      <td>10</td>\n",
              "      <td>55-64</td>\n",
              "      <td>male</td>\n",
              "      <td>masters degree</td>\n",
              "      <td>USA</td>\n",
              "      <td>White</td>\n",
              "      <td>CL6</td>\n",
              "      <td>CL1</td>\n",
              "      <td>CL0</td>\n",
              "      <td>CL1</td>\n",
              "      <td>CL6</td>\n",
              "      <td>CL1</td>\n",
              "      <td>CL6</td>\n",
              "      <td>CL0</td>\n",
              "      <td>CL0</td>\n",
              "      <td>CL0</td>\n",
              "      <td>CL0</td>\n",
              "      <td>CL0</td>\n",
              "      <td>CL0</td>\n",
              "      <td>CL0</td>\n",
              "      <td>CL0</td>\n",
              "      <td>CL0</td>\n",
              "      <td>CL6</td>\n",
              "      <td>CL0</td>\n",
              "      <td>CL0</td>\n",
              "    </tr>\n",
              "  </tbody>\n",
              "</table>\n",
              "</div>"
            ],
            "text/plain": [
              "   ID    AGE  GENDER             EDUCATION  ... MUSHROOMS NICOTINE SEMER VOLATILE\n",
              "0   1    65+  female       Doctrate degree  ...       CL0      CL2   CL0      CL0\n",
              "1   2  25-34    male       Doctrate degree  ...       CL0      CL4   CL0      CL0\n",
              "2   3    65+    male       Doctrate degree  ...       CL1      CL0   CL0      CL0\n",
              "3   4    65+  female        masters degree  ...       CL0      CL2   CL0      CL0\n",
              "4   5    65+  female       Doctrate degree  ...       CL2      CL2   CL0      CL0\n",
              "5   6    65+  female  left school at 18yrs  ...       CL0      CL6   CL0      CL0\n",
              "6   7  45-54    male        masters degree  ...       CL0      CL6   CL0      CL0\n",
              "7   8    65+    male  left school at 16yrs  ...       CL0      CL0   CL0      CL0\n",
              "8   9    65+  female       Doctrate degree  ...       CL0      CL6   CL0      CL0\n",
              "9  10  55-64    male        masters degree  ...       CL0      CL6   CL0      CL0\n",
              "\n",
              "[10 rows x 25 columns]"
            ]
          },
          "metadata": {
            "tags": []
          },
          "execution_count": 56
        }
      ]
    },
    {
      "cell_type": "code",
      "metadata": {
        "id": "B8GtdftXy-T2"
      },
      "source": [
        "#Classifying the rows  for the column names for the drugs to user and non-user\n",
        "ls = list(df.columns)\n",
        "for x in ls[6:24]:\n",
        "  df[x].replace({\"CL0\": \"non-user\", \"CL1\": \"non-user\", \"CL2\": \"user\",\"CL3\": \"user\", \"CL4\": \"user\", \"CL5\": \"user\",\"CL6\": \"user\" }, inplace=True)"
      ],
      "execution_count": null,
      "outputs": []
    },
    {
      "cell_type": "code",
      "metadata": {
        "colab": {
          "base_uri": "https://localhost:8080/",
          "height": 309
        },
        "id": "fb7eUB4iAGeS",
        "outputId": "1ffcb7ba-a9b8-488e-b17c-db2eb77dfa51"
      },
      "source": [
        "df.head()"
      ],
      "execution_count": null,
      "outputs": [
        {
          "output_type": "execute_result",
          "data": {
            "text/html": [
              "<div>\n",
              "<style scoped>\n",
              "    .dataframe tbody tr th:only-of-type {\n",
              "        vertical-align: middle;\n",
              "    }\n",
              "\n",
              "    .dataframe tbody tr th {\n",
              "        vertical-align: top;\n",
              "    }\n",
              "\n",
              "    .dataframe thead th {\n",
              "        text-align: right;\n",
              "    }\n",
              "</style>\n",
              "<table border=\"1\" class=\"dataframe\">\n",
              "  <thead>\n",
              "    <tr style=\"text-align: right;\">\n",
              "      <th></th>\n",
              "      <th>ID</th>\n",
              "      <th>AGE</th>\n",
              "      <th>GENDER</th>\n",
              "      <th>EDUCATION</th>\n",
              "      <th>COUNTRY</th>\n",
              "      <th>ETHNICITY</th>\n",
              "      <th>ALCOHOL</th>\n",
              "      <th>AMPHETAMINES</th>\n",
              "      <th>AMYL</th>\n",
              "      <th>BENZOS</th>\n",
              "      <th>CAFFEINE</th>\n",
              "      <th>CANNABIS</th>\n",
              "      <th>CHOCOLATE</th>\n",
              "      <th>COCAINE</th>\n",
              "      <th>CRACK</th>\n",
              "      <th>ECSTASY</th>\n",
              "      <th>HEROIN</th>\n",
              "      <th>KETAMINE</th>\n",
              "      <th>LEGAL_HIGHS</th>\n",
              "      <th>LSD</th>\n",
              "      <th>METHADONE</th>\n",
              "      <th>MUSHROOMS</th>\n",
              "      <th>NICOTINE</th>\n",
              "      <th>SEMER</th>\n",
              "      <th>VOLATILE</th>\n",
              "    </tr>\n",
              "  </thead>\n",
              "  <tbody>\n",
              "    <tr>\n",
              "      <th>0</th>\n",
              "      <td>1</td>\n",
              "      <td>65+</td>\n",
              "      <td>female</td>\n",
              "      <td>Doctrate degree</td>\n",
              "      <td>USA</td>\n",
              "      <td>Mixed-White/Asian</td>\n",
              "      <td>user</td>\n",
              "      <td>user</td>\n",
              "      <td>non-user</td>\n",
              "      <td>user</td>\n",
              "      <td>user</td>\n",
              "      <td>non-user</td>\n",
              "      <td>user</td>\n",
              "      <td>non-user</td>\n",
              "      <td>non-user</td>\n",
              "      <td>non-user</td>\n",
              "      <td>non-user</td>\n",
              "      <td>non-user</td>\n",
              "      <td>non-user</td>\n",
              "      <td>non-user</td>\n",
              "      <td>non-user</td>\n",
              "      <td>non-user</td>\n",
              "      <td>user</td>\n",
              "      <td>non-user</td>\n",
              "      <td>CL0</td>\n",
              "    </tr>\n",
              "    <tr>\n",
              "      <th>1</th>\n",
              "      <td>2</td>\n",
              "      <td>25-34</td>\n",
              "      <td>male</td>\n",
              "      <td>Doctrate degree</td>\n",
              "      <td>USA</td>\n",
              "      <td>White</td>\n",
              "      <td>user</td>\n",
              "      <td>user</td>\n",
              "      <td>user</td>\n",
              "      <td>non-user</td>\n",
              "      <td>user</td>\n",
              "      <td>user</td>\n",
              "      <td>user</td>\n",
              "      <td>user</td>\n",
              "      <td>non-user</td>\n",
              "      <td>user</td>\n",
              "      <td>non-user</td>\n",
              "      <td>user</td>\n",
              "      <td>non-user</td>\n",
              "      <td>user</td>\n",
              "      <td>user</td>\n",
              "      <td>non-user</td>\n",
              "      <td>user</td>\n",
              "      <td>non-user</td>\n",
              "      <td>CL0</td>\n",
              "    </tr>\n",
              "    <tr>\n",
              "      <th>2</th>\n",
              "      <td>3</td>\n",
              "      <td>65+</td>\n",
              "      <td>male</td>\n",
              "      <td>Doctrate degree</td>\n",
              "      <td>USA</td>\n",
              "      <td>White</td>\n",
              "      <td>user</td>\n",
              "      <td>non-user</td>\n",
              "      <td>non-user</td>\n",
              "      <td>non-user</td>\n",
              "      <td>user</td>\n",
              "      <td>user</td>\n",
              "      <td>user</td>\n",
              "      <td>non-user</td>\n",
              "      <td>non-user</td>\n",
              "      <td>non-user</td>\n",
              "      <td>non-user</td>\n",
              "      <td>non-user</td>\n",
              "      <td>non-user</td>\n",
              "      <td>non-user</td>\n",
              "      <td>non-user</td>\n",
              "      <td>non-user</td>\n",
              "      <td>non-user</td>\n",
              "      <td>non-user</td>\n",
              "      <td>CL0</td>\n",
              "    </tr>\n",
              "    <tr>\n",
              "      <th>3</th>\n",
              "      <td>4</td>\n",
              "      <td>65+</td>\n",
              "      <td>female</td>\n",
              "      <td>masters degree</td>\n",
              "      <td>USA</td>\n",
              "      <td>White</td>\n",
              "      <td>user</td>\n",
              "      <td>non-user</td>\n",
              "      <td>non-user</td>\n",
              "      <td>user</td>\n",
              "      <td>user</td>\n",
              "      <td>user</td>\n",
              "      <td>user</td>\n",
              "      <td>user</td>\n",
              "      <td>non-user</td>\n",
              "      <td>non-user</td>\n",
              "      <td>non-user</td>\n",
              "      <td>user</td>\n",
              "      <td>non-user</td>\n",
              "      <td>non-user</td>\n",
              "      <td>non-user</td>\n",
              "      <td>non-user</td>\n",
              "      <td>user</td>\n",
              "      <td>non-user</td>\n",
              "      <td>CL0</td>\n",
              "    </tr>\n",
              "    <tr>\n",
              "      <th>4</th>\n",
              "      <td>5</td>\n",
              "      <td>65+</td>\n",
              "      <td>female</td>\n",
              "      <td>Doctrate degree</td>\n",
              "      <td>USA</td>\n",
              "      <td>White</td>\n",
              "      <td>user</td>\n",
              "      <td>non-user</td>\n",
              "      <td>non-user</td>\n",
              "      <td>non-user</td>\n",
              "      <td>user</td>\n",
              "      <td>user</td>\n",
              "      <td>user</td>\n",
              "      <td>non-user</td>\n",
              "      <td>non-user</td>\n",
              "      <td>non-user</td>\n",
              "      <td>non-user</td>\n",
              "      <td>non-user</td>\n",
              "      <td>non-user</td>\n",
              "      <td>non-user</td>\n",
              "      <td>non-user</td>\n",
              "      <td>user</td>\n",
              "      <td>user</td>\n",
              "      <td>non-user</td>\n",
              "      <td>CL0</td>\n",
              "    </tr>\n",
              "  </tbody>\n",
              "</table>\n",
              "</div>"
            ],
            "text/plain": [
              "   ID    AGE  GENDER        EDUCATION  ... MUSHROOMS  NICOTINE     SEMER VOLATILE\n",
              "0   1    65+  female  Doctrate degree  ...  non-user      user  non-user      CL0\n",
              "1   2  25-34    male  Doctrate degree  ...  non-user      user  non-user      CL0\n",
              "2   3    65+    male  Doctrate degree  ...  non-user  non-user  non-user      CL0\n",
              "3   4    65+  female   masters degree  ...  non-user      user  non-user      CL0\n",
              "4   5    65+  female  Doctrate degree  ...      user      user  non-user      CL0\n",
              "\n",
              "[5 rows x 25 columns]"
            ]
          },
          "metadata": {
            "tags": []
          },
          "execution_count": 58
        }
      ]
    },
    {
      "cell_type": "code",
      "metadata": {
        "id": "ZOp-TBahIsYe"
      },
      "source": [
        "import numpy as np\n",
        "import matplotlib.pyplot as plt\n",
        "%matplotlib inline\n"
      ],
      "execution_count": null,
      "outputs": []
    },
    {
      "cell_type": "markdown",
      "metadata": {
        "id": "YbAZ8iIL3r2H"
      },
      "source": [
        "#Data Analysis"
      ]
    },
    {
      "cell_type": "markdown",
      "metadata": {
        "id": "pVr2mb62P4HF"
      },
      "source": [
        "#5 Most used drug"
      ]
    },
    {
      "cell_type": "code",
      "metadata": {
        "colab": {
          "base_uri": "https://localhost:8080/"
        },
        "id": "JQ62yg_B6_sX",
        "outputId": "acc84c0f-2e95-4140-e9be-567d95fe3109"
      },
      "source": [
        "#most used drug\n",
        "ls=list(df.columns)\n",
        "melted_data = pd.melt(df, value_vars=ls[6:24], var_name='drug', value_name='usage')\n",
        "melted_data = melted_data[melted_data['usage'] == 'user']\n",
        "melted_data.groupby(by=['drug'])['usage'].count().sort_values(ascending=False)"
      ],
      "execution_count": null,
      "outputs": [
        {
          "output_type": "execute_result",
          "data": {
            "text/plain": [
              "drug\n",
              "CHOCOLATE       1850\n",
              "CAFFEINE        1848\n",
              "ALCOHOL         1817\n",
              "CANNABIS        1265\n",
              "NICOTINE        1264\n",
              "BENZOS           769\n",
              "LEGAL_HIGHS      762\n",
              "ECSTASY          751\n",
              "MUSHROOMS        694\n",
              "COCAINE          687\n",
              "AMPHETAMINES     679\n",
              "LSD              557\n",
              "METHADONE        417\n",
              "AMYL             370\n",
              "KETAMINE         350\n",
              "HEROIN           212\n",
              "CRACK            191\n",
              "SEMER              6\n",
              "Name: usage, dtype: int64"
            ]
          },
          "metadata": {
            "tags": []
          },
          "execution_count": 60
        }
      ]
    },
    {
      "cell_type": "code",
      "metadata": {
        "colab": {
          "base_uri": "https://localhost:8080/",
          "height": 347
        },
        "id": "vKZik33sNJYI",
        "outputId": "06c5974b-f11c-4a36-9f53-8d1d427531d5"
      },
      "source": [
        "#Plotting the most used drug\n",
        "ls=list(df.columns)\n",
        "melted_data = pd.melt(df, value_vars=ls[6:24], var_name='drug', value_name='usage')\n",
        "melted_data = melted_data[melted_data['usage'] == 'user']\n",
        "melted_data.groupby(by=['drug'])['usage'].count().plot(kind='bar', figsize=(20,5))"
      ],
      "execution_count": null,
      "outputs": [
        {
          "output_type": "execute_result",
          "data": {
            "text/plain": [
              "<matplotlib.axes._subplots.AxesSubplot at 0x7f825ed7a0d0>"
            ]
          },
          "metadata": {
            "tags": []
          },
          "execution_count": 61
        },
        {
          "output_type": "display_data",
          "data": {
            "image/png": "[encoded data removed]",
            "text/plain": [
              "<Figure size 1440x360 with 1 Axes>"
            ]
          },
          "metadata": {
            "tags": [],
            "needs_background": "light"
          }
        }
      ]
    },
    {
      "cell_type": "markdown",
      "metadata": {
        "id": "kpJZwjd2hITF"
      },
      "source": [
        "#6 Comparing drug usage across the gender,age,ethnicity,country and education."
      ]
    },
    {
      "cell_type": "code",
      "metadata": {
        "colab": {
          "base_uri": "https://localhost:8080/"
        },
        "id": "o8JcR4WleTTJ",
        "outputId": "6ad9b5dd-34df-4beb-9491-624516cb5205"
      },
      "source": [
        "#Comparing drug usage across the genders\n",
        "ls=list(df.columns)\n",
        "melted_data = pd.melt(df,id_vars='GENDER', value_vars=ls[6:24], var_name='drug', value_name='usage')\n",
        "melted_data = melted_data[melted_data['usage'] == 'user']\n",
        "melted_data.groupby(by=['drug','GENDER'])['usage'].count().sort_values(ascending=False)"
      ],
      "execution_count": null,
      "outputs": [
        {
          "output_type": "execute_result",
          "data": {
            "text/plain": [
              "drug          GENDER\n",
              "CAFFEINE      male      928\n",
              "CHOCOLATE     male      925\n",
              "              female    925\n",
              "CAFFEINE      female    920\n",
              "ALCOHOL       female    910\n",
              "              male      907\n",
              "CANNABIS      male      738\n",
              "NICOTINE      male      703\n",
              "              female    561\n",
              "CANNABIS      female    527\n",
              "LEGAL_HIGHS   male      525\n",
              "ECSTASY       male      483\n",
              "MUSHROOMS     male      463\n",
              "BENZOS        male      446\n",
              "AMPHETAMINES  male      445\n",
              "COCAINE       male      417\n",
              "LSD           male      392\n",
              "BENZOS        female    323\n",
              "METHADONE     male      282\n",
              "COCAINE       female    270\n",
              "ECSTASY       female    268\n",
              "KETAMINE      male      244\n",
              "LEGAL_HIGHS   female    237\n",
              "AMYL          male      236\n",
              "AMPHETAMINES  female    234\n",
              "MUSHROOMS     female    231\n",
              "LSD           female    165\n",
              "HEROIN        male      146\n",
              "CRACK         male      135\n",
              "METHADONE     female    135\n",
              "AMYL          female    134\n",
              "KETAMINE      female    106\n",
              "HEROIN        female     66\n",
              "CRACK         female     56\n",
              "SEMER         female      4\n",
              "              male        2\n",
              "Name: usage, dtype: int64"
            ]
          },
          "metadata": {
            "tags": []
          },
          "execution_count": 88
        }
      ]
    },
    {
      "cell_type": "code",
      "metadata": {
        "colab": {
          "base_uri": "https://localhost:8080/",
          "height": 388
        },
        "id": "Q0qmE_L5mARd",
        "outputId": "fedc96ba-51ae-4cbf-b635-f7c3dcb06777"
      },
      "source": [
        "#Comparing drug usage across the genders\n",
        "ls=list(df.columns)\n",
        "melted_data = pd.melt(df,id_vars='GENDER', value_vars=ls[6:24], var_name='drug', value_name='usage')\n",
        "melted_data = melted_data[melted_data['usage'] == 'user']\n",
        "melted_data.groupby(by=['drug','GENDER'])['usage'].count().plot(kind='bar', figsize=(20,5))"
      ],
      "execution_count": null,
      "outputs": [
        {
          "output_type": "execute_result",
          "data": {
            "text/plain": [
              "<matplotlib.axes._subplots.AxesSubplot at 0x7f825e00b2d0>"
            ]
          },
          "metadata": {
            "tags": []
          },
          "execution_count": 89
        },
        {
          "output_type": "display_data",
          "data": {
            "image/png": "[encoded data removed]",
            "text/plain": [
              "<Figure size 1440x360 with 1 Axes>"
            ]
          },
          "metadata": {
            "tags": [],
            "needs_background": "light"
          }
        }
      ]
    },
    {
      "cell_type": "code",
      "metadata": {
        "colab": {
          "base_uri": "https://localhost:8080/"
        },
        "id": "95cFJradfUGW",
        "outputId": "522d2177-c758-4dec-8b5b-8fbd7b47c3f2"
      },
      "source": [
        "#Usage of drugs across different ages\n",
        "ls=list(df.columns)\n",
        "melted_data = pd.melt(df,id_vars='AGE', value_vars=ls[6:24], var_name='drug', value_name='usage')\n",
        "melted_data = melted_data[melted_data['usage'] == 'user']\n",
        "melted_data.groupby(by=['drug','AGE'])['usage'].count().sort_values(ascending=False)"
      ],
      "execution_count": null,
      "outputs": [
        {
          "output_type": "execute_result",
          "data": {
            "text/plain": [
              "drug       AGE  \n",
              "CAFFEINE   65+      1006\n",
              "CHOCOLATE  65+       999\n",
              "ALCOHOL    65+       985\n",
              "CANNABIS   65+       776\n",
              "NICOTINE   65+       755\n",
              "                    ... \n",
              "SEMER      65+         5\n",
              "LSD        55-64       3\n",
              "HEROIN     55-64       2\n",
              "SEMER      25-34       1\n",
              "KETAMINE   55-64       1\n",
              "Name: usage, Length: 70, dtype: int64"
            ]
          },
          "metadata": {
            "tags": []
          },
          "execution_count": 90
        }
      ]
    },
    {
      "cell_type": "code",
      "metadata": {
        "colab": {
          "base_uri": "https://localhost:8080/",
          "height": 382
        },
        "id": "YurYmofznBB0",
        "outputId": "df8b4092-462f-4358-edb5-c6fdfd0a0561"
      },
      "source": [
        "ls=list(df.columns)\n",
        "melted_data = pd.melt(df,id_vars='AGE', value_vars=ls[6:24], var_name='drug', value_name='usage')\n",
        "melted_data = melted_data[melted_data['usage'] == 'user']\n",
        "melted_data.groupby(by=['drug','AGE'])['usage'].count().plot(kind='bar', figsize=(20,5))"
      ],
      "execution_count": null,
      "outputs": [
        {
          "output_type": "execute_result",
          "data": {
            "text/plain": [
              "<matplotlib.axes._subplots.AxesSubplot at 0x7f825ddd4250>"
            ]
          },
          "metadata": {
            "tags": []
          },
          "execution_count": 91
        },
        {
          "output_type": "display_data",
          "data": {
            "image/png": "[encoded data removed]",
            "text/plain": [
              "<Figure size 1440x360 with 1 Axes>"
            ]
          },
          "metadata": {
            "tags": [],
            "needs_background": "light"
          }
        }
      ]
    },
    {
      "cell_type": "code",
      "metadata": {
        "colab": {
          "base_uri": "https://localhost:8080/"
        },
        "id": "8eLmKoJdgHEv",
        "outputId": "9673eba3-2714-4669-b824-e9a906b37513"
      },
      "source": [
        "#Users in the different education levels\n",
        "ls=list(df.columns)\n",
        "melted_data = pd.melt(df,id_vars='EDUCATION', value_vars=ls[6:24], var_name='drug', value_name='usage')\n",
        "melted_data = melted_data[melted_data['usage'] == 'user']\n",
        "melted_data.groupby(by=['drug','EDUCATION'])['usage'].count().sort_values(ascending=False)"
      ],
      "execution_count": null,
      "outputs": [
        {
          "output_type": "execute_result",
          "data": {
            "text/plain": [
              "drug       EDUCATION               \n",
              "CHOCOLATE  Doctrate degree             1323\n",
              "CAFFEINE   Doctrate degree             1322\n",
              "ALCOHOL    Doctrate degree             1299\n",
              "CANNABIS   Doctrate degree              948\n",
              "NICOTINE   Doctrate degree              918\n",
              "                                       ... \n",
              "SEMER      Doctrate degree                5\n",
              "KETAMINE   left school before 16yrs       3\n",
              "AMYL       left school at 17yrs           3\n",
              "KETAMINE   left school at 17yrs           2\n",
              "SEMER      left school at 16yrs           1\n",
              "Name: usage, Length: 104, dtype: int64"
            ]
          },
          "metadata": {
            "tags": []
          },
          "execution_count": 66
        }
      ]
    },
    {
      "cell_type": "code",
      "metadata": {
        "colab": {
          "base_uri": "https://localhost:8080/",
          "height": 454
        },
        "id": "3AeVeCCLn3eR",
        "outputId": "b58d83c8-411b-434b-bc49-883a726e8001"
      },
      "source": [
        "#Users in the different education levels\n",
        "ls=list(df.columns)\n",
        "melted_data = pd.melt(df,id_vars='EDUCATION', value_vars=ls[6:24], var_name='drug', value_name='usage')\n",
        "melted_data = melted_data[melted_data['usage'] == 'user']\n",
        "melted_data.groupby(by=['drug','EDUCATION'])['usage'].count().plot(kind='bar', figsize=(20,5))"
      ],
      "execution_count": null,
      "outputs": [
        {
          "output_type": "execute_result",
          "data": {
            "text/plain": [
              "<matplotlib.axes._subplots.AxesSubplot at 0x7f825eff1390>"
            ]
          },
          "metadata": {
            "tags": []
          },
          "execution_count": 67
        },
        {
          "output_type": "display_data",
          "data": {
            "image/png": "[encoded data removed]",
            "text/plain": [
              "<Figure size 1440x360 with 1 Axes>"
            ]
          },
          "metadata": {
            "tags": [],
            "needs_background": "light"
          }
        }
      ]
    },
    {
      "cell_type": "code",
      "metadata": {
        "colab": {
          "base_uri": "https://localhost:8080/"
        },
        "id": "CVkkoLMVgWxW",
        "outputId": "d1467f3e-5eb9-4a09-a109-759680fb16bb"
      },
      "source": [
        "#usage of drug in the countries\n",
        "ls=list(df.columns)\n",
        "melted_data = pd.melt(df,id_vars='COUNTRY', value_vars=ls[6:24], var_name='drug', value_name='usage')\n",
        "melted_data = melted_data[melted_data['usage'] == 'user']\n",
        "melted_data.groupby(by=['drug','COUNTRY'])['usage'].count().sort_values(ascending=False)"
      ],
      "execution_count": null,
      "outputs": [
        {
          "output_type": "execute_result",
          "data": {
            "text/plain": [
              "drug       COUNTRY  \n",
              "CHOCOLATE  USA          1597\n",
              "CAFFEINE   USA          1590\n",
              "ALCOHOL    USA          1569\n",
              "NICOTINE   USA          1067\n",
              "CANNABIS   USA          1049\n",
              "                        ... \n",
              "CRACK      other          10\n",
              "HEROIN     Australia       6\n",
              "CRACK      Australia       5\n",
              "SEMER      USA             4\n",
              "           Australia       2\n",
              "Name: usage, Length: 70, dtype: int64"
            ]
          },
          "metadata": {
            "tags": []
          },
          "execution_count": 92
        }
      ]
    },
    {
      "cell_type": "code",
      "metadata": {
        "colab": {
          "base_uri": "https://localhost:8080/",
          "height": 394
        },
        "id": "260ihCh9omaL",
        "outputId": "6457661b-9c66-42ee-f474-a95ea1a68772"
      },
      "source": [
        "#usage of drug in the countries\n",
        "ls=list(df.columns)\n",
        "melted_data = pd.melt(df,id_vars='COUNTRY', value_vars=ls[6:24], var_name='drug', value_name='usage')\n",
        "melted_data = melted_data[melted_data['usage'] == 'user']\n",
        "melted_data.groupby(by=['drug','COUNTRY'])['usage'].count().plot(kind='bar', figsize=(20,5))"
      ],
      "execution_count": null,
      "outputs": [
        {
          "output_type": "execute_result",
          "data": {
            "text/plain": [
              "<matplotlib.axes._subplots.AxesSubplot at 0x7f825dbd1f90>"
            ]
          },
          "metadata": {
            "tags": []
          },
          "execution_count": 93
        },
        {
          "output_type": "display_data",
          "data": {
            "image/png": "[encoded data removed]",
            "text/plain": [
              "<Figure size 1440x360 with 1 Axes>"
            ]
          },
          "metadata": {
            "tags": [],
            "needs_background": "light"
          }
        }
      ]
    },
    {
      "cell_type": "code",
      "metadata": {
        "colab": {
          "base_uri": "https://localhost:8080/"
        },
        "id": "AjJbk_Bkg4r0",
        "outputId": "30781a93-8aa3-4d0b-ef7b-896f3e823174"
      },
      "source": [
        "#Comparing drug usage across different ethnicity\n",
        "ls=list(df.columns)\n",
        "melted_data = pd.melt(df,id_vars='ETHNICITY', value_vars=ls[6:24], var_name='drug', value_name='usage')\n",
        "melted_data = melted_data[melted_data['usage'] == 'user']\n",
        "melted_data.groupby(by=['drug','ETHNICITY'])['usage'].count().sort_values(ascending=False)"
      ],
      "execution_count": null,
      "outputs": [
        {
          "output_type": "execute_result",
          "data": {
            "text/plain": [
              "drug         ETHNICITY        \n",
              "CHOCOLATE    White                1722\n",
              "CAFFEINE     White                1721\n",
              "ALCOHOL      White                1695\n",
              "CANNABIS     White                1175\n",
              "NICOTINE     White                1175\n",
              "                                  ... \n",
              "HEROIN       Asian                   1\n",
              "COCAINE      Mixed-Black/Asian       1\n",
              "LEGAL_HIGHS  Mixed-Black/Asian       1\n",
              "SEMER        Asian                   1\n",
              "             Other                   1\n",
              "Name: usage, Length: 97, dtype: int64"
            ]
          },
          "metadata": {
            "tags": []
          },
          "execution_count": 94
        }
      ]
    },
    {
      "cell_type": "code",
      "metadata": {
        "colab": {
          "base_uri": "https://localhost:8080/",
          "height": 433
        },
        "id": "kPyn0W-Lo8Aw",
        "outputId": "ce6785b4-c09c-4cf1-d71b-ade7df35dea6"
      },
      "source": [
        "#Comparing drug usage across different ethnicity\n",
        "ls=list(df.columns)\n",
        "melted_data = pd.melt(df,id_vars='ETHNICITY', value_vars=ls[6:24], var_name='drug', value_name='usage')\n",
        "melted_data = melted_data[melted_data['usage'] == 'user']\n",
        "melted_data.groupby(by=['drug','ETHNICITY'])['usage'].count().plot(kind='bar', figsize=(20,5))"
      ],
      "execution_count": null,
      "outputs": [
        {
          "output_type": "execute_result",
          "data": {
            "text/plain": [
              "<matplotlib.axes._subplots.AxesSubplot at 0x7f825da6d9d0>"
            ]
          },
          "metadata": {
            "tags": []
          },
          "execution_count": 95
        },
        {
          "output_type": "display_data",
          "data": {
            "image/png": "[encoded data removed]",
            "text/plain": [
              "<Figure size 1440x360 with 1 Axes>"
            ]
          },
          "metadata": {
            "tags": [],
            "needs_background": "light"
          }
        }
      ]
    },
    {
      "cell_type": "markdown",
      "metadata": {
        "id": "4_p7xhp8NfKR"
      },
      "source": [
        "#7 The age group with the highest and lowest usage of drug"
      ]
    },
    {
      "cell_type": "code",
      "metadata": {
        "colab": {
          "base_uri": "https://localhost:8080/"
        },
        "id": "Emup_6B49J7N",
        "outputId": "4b39b5be-5ab6-4e63-bf4f-524ffd98f4b7"
      },
      "source": [
        "#The age group with the highest and lowest usage of drug\n",
        "ls=list(df.columns)\n",
        "melted_data = pd.melt(df,id_vars='AGE', value_vars=ls[6:24], var_name='drug', value_name='usage')\n",
        "melted_data = melted_data[melted_data['usage'] == 'user']\n",
        "melted_data.groupby(by=['AGE'])['usage'].count().sort_values(ascending=False)"
      ],
      "execution_count": null,
      "outputs": [
        {
          "output_type": "execute_result",
          "data": {
            "text/plain": [
              "AGE\n",
              "65+      8529\n",
              "25-34    3970\n",
              "45-54    1547\n",
              "55-64     443\n",
              "Name: usage, dtype: int64"
            ]
          },
          "metadata": {
            "tags": []
          },
          "execution_count": 72
        }
      ]
    },
    {
      "cell_type": "code",
      "metadata": {
        "colab": {
          "base_uri": "https://localhost:8080/",
          "height": 320
        },
        "id": "5LdQcNN3MhJv",
        "outputId": "77bdb382-78b8-4fba-da1e-e6be0f0a4aaa"
      },
      "source": [
        "#Plotting the age group with the highest and lowest usage of drug\n",
        "ls=list(df.columns)\n",
        "melted_data = pd.melt(df,id_vars='AGE', value_vars=ls[6:24], var_name='drug', value_name='usage')\n",
        "melted_data = melted_data[melted_data['usage'] == 'user']\n",
        "melted_data.groupby(by=['AGE'])['usage'].count().sort_values(ascending=False).plot(kind='pie', figsize=(20,5))"
      ],
      "execution_count": null,
      "outputs": [
        {
          "output_type": "execute_result",
          "data": {
            "text/plain": [
              "<matplotlib.axes._subplots.AxesSubplot at 0x7f825e220cd0>"
            ]
          },
          "metadata": {
            "tags": []
          },
          "execution_count": 73
        },
        {
          "output_type": "display_data",
          "data": {
            "image/png": "[encoded data removed]",
            "text/plain": [
              "<Figure size 1440x360 with 1 Axes>"
            ]
          },
          "metadata": {
            "tags": []
          }
        }
      ]
    },
    {
      "cell_type": "code",
      "metadata": {
        "colab": {
          "base_uri": "https://localhost:8080/"
        },
        "id": "WmwPmkWLFohU",
        "outputId": "357a25d4-b95c-49f9-afa3-b0a49924ee00"
      },
      "source": [
        "#The Usage of drugs in the 65+ age group\n",
        "ls=list(df.columns)\n",
        "melted_data = pd.melt(df,id_vars='AGE', value_vars=ls[6:24], var_name='drug', value_name='usage')\n",
        "melted_data = melted_data[melted_data['usage'] == 'user']\n",
        "melted_data = melted_data[melted_data['AGE'] == '65+']\n",
        "melted_data.groupby(by=['drug'])['usage'].count().sort_values(ascending=False)"
      ],
      "execution_count": null,
      "outputs": [
        {
          "output_type": "execute_result",
          "data": {
            "text/plain": [
              "drug\n",
              "CAFFEINE        1006\n",
              "CHOCOLATE        999\n",
              "ALCOHOL          985\n",
              "CANNABIS         776\n",
              "NICOTINE         755\n",
              "LEGAL_HIGHS      534\n",
              "ECSTASY          491\n",
              "MUSHROOMS        443\n",
              "BENZOS           438\n",
              "AMPHETAMINES     421\n",
              "COCAINE          400\n",
              "LSD              369\n",
              "METHADONE        263\n",
              "KETAMINE         211\n",
              "AMYL             203\n",
              "HEROIN           126\n",
              "CRACK            104\n",
              "SEMER              5\n",
              "Name: usage, dtype: int64"
            ]
          },
          "metadata": {
            "tags": []
          },
          "execution_count": 74
        }
      ]
    },
    {
      "cell_type": "code",
      "metadata": {
        "colab": {
          "base_uri": "https://localhost:8080/",
          "height": 320
        },
        "id": "gieH3jPkGCX-",
        "outputId": "7b28cf42-fd4f-44ec-9355-368483461b35"
      },
      "source": [
        "#plotting drug usage in the 65+ age group\n",
        "ls=list(df.columns)\n",
        "melted_data = pd.melt(df,id_vars='AGE', value_vars=ls[6:24], var_name='drug', value_name='usage')\n",
        "melted_data = melted_data[melted_data['usage'] == 'user']\n",
        "melted_data = melted_data[melted_data['AGE'] == '65+']\n",
        "melted_data.groupby(by=['drug'])['usage'].count().plot(kind='pie', figsize=(20,5))"
      ],
      "execution_count": null,
      "outputs": [
        {
          "output_type": "execute_result",
          "data": {
            "text/plain": [
              "<matplotlib.axes._subplots.AxesSubplot at 0x7f825e1a8250>"
            ]
          },
          "metadata": {
            "tags": []
          },
          "execution_count": 75
        },
        {
          "output_type": "display_data",
          "data": {
            "image/png": "[encoded data removed]",
            "text/plain": [
              "<Figure size 1440x360 with 1 Axes>"
            ]
          },
          "metadata": {
            "tags": []
          }
        }
      ]
    },
    {
      "cell_type": "markdown",
      "metadata": {
        "id": "t_1vpqQj1CFg"
      },
      "source": [
        "#8. Most used drug in various categories\n"
      ]
    },
    {
      "cell_type": "code",
      "metadata": {
        "colab": {
          "base_uri": "https://localhost:8080/"
        },
        "id": "ufkG5d249Tis",
        "outputId": "e4b36664-d6d5-43b4-ca7c-28e43fb379d7"
      },
      "source": [
        "#Overall usage of drugs in the vaious education categories from highest to lowest\n",
        "ls=list(df.columns)\n",
        "melted_data = pd.melt(df,id_vars='EDUCATION', value_vars=ls[6:24], var_name='drug', value_name='usage')\n",
        "melted_data = melted_data[melted_data['usage'] == 'user']\n",
        "melted_data.groupby(by=['EDUCATION'])['usage'].count().sort_values(ascending=False)"
      ],
      "execution_count": null,
      "outputs": [
        {
          "output_type": "execute_result",
          "data": {
            "text/plain": [
              "EDUCATION\n",
              "Doctrate degree             10693\n",
              "masters degree               1712\n",
              "left school at 18yrs          914\n",
              "left school at 16yrs          673\n",
              "left school at 17yrs          257\n",
              "left school before 16yrs      240\n",
              "Name: usage, dtype: int64"
            ]
          },
          "metadata": {
            "tags": []
          },
          "execution_count": 76
        }
      ]
    },
    {
      "cell_type": "code",
      "metadata": {
        "colab": {
          "base_uri": "https://localhost:8080/"
        },
        "id": "eg1q2Aq79s5M",
        "outputId": "aabe88d7-0163-4acc-9911-29df0354ebd2"
      },
      "source": [
        "#usage of drugs in the Doctorate degree \n",
        "ls=list(df.columns)\n",
        "melted_data = pd.melt(df,id_vars='EDUCATION', value_vars=ls[6:24], var_name='drug', value_name='usage')\n",
        "melted_data = melted_data[melted_data['usage'] == 'user']\n",
        "melted_data = melted_data[melted_data['EDUCATION'] == 'Doctrate degree']\n",
        "melted_data.groupby(by=['drug','EDUCATION'])['usage'].count().sort_values(ascending=False)"
      ],
      "execution_count": null,
      "outputs": [
        {
          "output_type": "execute_result",
          "data": {
            "text/plain": [
              "drug          EDUCATION      \n",
              "CHOCOLATE     Doctrate degree    1323\n",
              "CAFFEINE      Doctrate degree    1322\n",
              "ALCOHOL       Doctrate degree    1299\n",
              "CANNABIS      Doctrate degree     948\n",
              "NICOTINE      Doctrate degree     918\n",
              "LEGAL_HIGHS   Doctrate degree     585\n",
              "ECSTASY       Doctrate degree     572\n",
              "BENZOS        Doctrate degree     567\n",
              "MUSHROOMS     Doctrate degree     541\n",
              "COCAINE       Doctrate degree     515\n",
              "AMPHETAMINES  Doctrate degree     510\n",
              "LSD           Doctrate degree     439\n",
              "METHADONE     Doctrate degree     318\n",
              "AMYL          Doctrate degree     269\n",
              "KETAMINE      Doctrate degree     265\n",
              "HEROIN        Doctrate degree     161\n",
              "CRACK         Doctrate degree     136\n",
              "SEMER         Doctrate degree       5\n",
              "Name: usage, dtype: int64"
            ]
          },
          "metadata": {
            "tags": []
          },
          "execution_count": 96
        }
      ]
    },
    {
      "cell_type": "code",
      "metadata": {
        "colab": {
          "base_uri": "https://localhost:8080/",
          "height": 592
        },
        "id": "0Mr3saXf4-nK",
        "outputId": "0c5c9671-fae6-4d65-a8d0-1c49eec21f65"
      },
      "source": [
        "#Plotting usage of drugs in the doctrate degree\n",
        "ls=list(df.columns)\n",
        "melted_data = pd.melt(df,id_vars='EDUCATION', value_vars=ls[6:24], var_name='drug', value_name='usage')\n",
        "melted_data = melted_data[melted_data['usage'] == 'user']\n",
        "melted_data = melted_data[melted_data['EDUCATION'] == 'Doctrate degree']\n",
        "melted_data.groupby(by=['drug'])['usage'].count().plot(kind='pie', figsize=(20,10))"
      ],
      "execution_count": null,
      "outputs": [
        {
          "output_type": "execute_result",
          "data": {
            "text/plain": [
              "<matplotlib.axes._subplots.AxesSubplot at 0x7f825e114f50>"
            ]
          },
          "metadata": {
            "tags": []
          },
          "execution_count": 78
        },
        {
          "output_type": "display_data",
          "data": {
            "image/png": "[encoded data removed]",
            "text/plain": [
              "<Figure size 1440x720 with 1 Axes>"
            ]
          },
          "metadata": {
            "tags": []
          }
        }
      ]
    },
    {
      "cell_type": "code",
      "metadata": {
        "colab": {
          "base_uri": "https://localhost:8080/"
        },
        "id": "smAD6UB43UGZ",
        "outputId": "f788cb84-c93f-4735-e521-6f809ae4ea35"
      },
      "source": [
        "#The country with the highest and lowest usage of drug\n",
        "ls=list(df.columns)\n",
        "melted_data = pd.melt(df,id_vars='COUNTRY', value_vars=ls[6:24], var_name='drug', value_name='usage')\n",
        "melted_data = melted_data[melted_data['usage'] == 'user']\n",
        "melted_data.groupby(by=['COUNTRY'])['usage'].count().sort_values(ascending=False)"
      ],
      "execution_count": null,
      "outputs": [
        {
          "output_type": "execute_result",
          "data": {
            "text/plain": [
              "COUNTRY\n",
              "USA          12181\n",
              "other         1038\n",
              "Canada         736\n",
              "Australia      534\n",
              "Name: usage, dtype: int64"
            ]
          },
          "metadata": {
            "tags": []
          },
          "execution_count": 79
        }
      ]
    },
    {
      "cell_type": "code",
      "metadata": {
        "colab": {
          "base_uri": "https://localhost:8080/"
        },
        "id": "lo2TNWEg_JNz",
        "outputId": "cf5f763d-bce4-4155-f7ab-870224c01728"
      },
      "source": [
        "#drug usage in USA\n",
        "ls=list(df.columns)\n",
        "melted_data = pd.melt(df,id_vars='COUNTRY', value_vars=ls[6:24], var_name='drug', value_name='usage')\n",
        "melted_data = melted_data[melted_data['usage'] == 'user']\n",
        "melted_data = melted_data[melted_data['COUNTRY'] == 'USA']\n",
        "melted_data.groupby(by=['drug'])['usage'].count().sort_values(ascending=False)"
      ],
      "execution_count": null,
      "outputs": [
        {
          "output_type": "execute_result",
          "data": {
            "text/plain": [
              "drug\n",
              "CHOCOLATE       1597\n",
              "CAFFEINE        1590\n",
              "ALCOHOL         1569\n",
              "NICOTINE        1067\n",
              "CANNABIS        1049\n",
              "BENZOS           648\n",
              "LEGAL_HIGHS      637\n",
              "ECSTASY          615\n",
              "COCAINE          575\n",
              "AMPHETAMINES     556\n",
              "MUSHROOMS        556\n",
              "LSD              431\n",
              "METHADONE        356\n",
              "AMYL             308\n",
              "KETAMINE         281\n",
              "HEROIN           183\n",
              "CRACK            159\n",
              "SEMER              4\n",
              "Name: usage, dtype: int64"
            ]
          },
          "metadata": {
            "tags": []
          },
          "execution_count": 80
        }
      ]
    },
    {
      "cell_type": "code",
      "metadata": {
        "colab": {
          "base_uri": "https://localhost:8080/",
          "height": 592
        },
        "id": "pNZWS3KB-mCZ",
        "outputId": "0110897f-7dd0-42c0-feb2-921412834530"
      },
      "source": [
        "#Graph for usage of drugs in USA\n",
        "ls=list(df.columns)\n",
        "melted_data = pd.melt(df,id_vars='COUNTRY', value_vars=ls[6:24], var_name='drug', value_name='usage')\n",
        "melted_data = melted_data[melted_data['usage'] == 'user']\n",
        "melted_data = melted_data[melted_data['COUNTRY'] == 'USA']\n",
        "melted_data.groupby(by=['drug'])['usage'].count().plot(kind='pie', figsize=(20,10))"
      ],
      "execution_count": null,
      "outputs": [
        {
          "output_type": "execute_result",
          "data": {
            "text/plain": [
              "<matplotlib.axes._subplots.AxesSubplot at 0x7f825e6b48d0>"
            ]
          },
          "metadata": {
            "tags": []
          },
          "execution_count": 81
        },
        {
          "output_type": "display_data",
          "data": {
            "image/png": "[encoded data removed]",
            "text/plain": [
              "<Figure size 1440x720 with 1 Axes>"
            ]
          },
          "metadata": {
            "tags": []
          }
        }
      ]
    },
    {
      "cell_type": "code",
      "metadata": {
        "colab": {
          "base_uri": "https://localhost:8080/"
        },
        "id": "sZkkose5317k",
        "outputId": "4af3dbb3-0f48-4ad5-9848-0cac1ae62791"
      },
      "source": [
        "#Ethnicity with highest and lowest usage of drugs\n",
        "ls=list(df.columns)\n",
        "melted_data = pd.melt(df,id_vars='ETHNICITY', value_vars=ls[6:24], var_name='drug', value_name='usage')\n",
        "melted_data = melted_data[melted_data['usage'] == 'user']\n",
        "melted_data.groupby(by=['ETHNICITY'])['usage'].count().sort_values(ascending=False)"
      ],
      "execution_count": null,
      "outputs": [
        {
          "output_type": "execute_result",
          "data": {
            "text/plain": [
              "ETHNICITY\n",
              "White                13419\n",
              "Other                  574\n",
              "Mixed-White/Asian      189\n",
              "Mixed-White/Black      164\n",
              "Asian                  120\n",
              "Mixed-Black/Asian       23\n",
              "Name: usage, dtype: int64"
            ]
          },
          "metadata": {
            "tags": []
          },
          "execution_count": 82
        }
      ]
    },
    {
      "cell_type": "code",
      "metadata": {
        "colab": {
          "base_uri": "https://localhost:8080/"
        },
        "id": "shMowino_zHd",
        "outputId": "8194be9e-a42c-4fc0-a55f-731562d32764"
      },
      "source": [
        "#Usage of drugs by the whites\n",
        "ls=list(df.columns)\n",
        "melted_data = pd.melt(df,id_vars='ETHNICITY', value_vars=ls[6:24], var_name='drug', value_name='usage')\n",
        "melted_data = melted_data[melted_data['usage'] == 'user']\n",
        "melted_data = melted_data[melted_data['ETHNICITY'] == 'White']\n",
        "melted_data.groupby(by=['drug'])['usage'].count().sort_values(ascending=False)"
      ],
      "execution_count": null,
      "outputs": [
        {
          "output_type": "execute_result",
          "data": {
            "text/plain": [
              "drug\n",
              "CHOCOLATE       1722\n",
              "CAFFEINE        1721\n",
              "ALCOHOL         1695\n",
              "NICOTINE        1175\n",
              "CANNABIS        1175\n",
              "LEGAL_HIGHS      705\n",
              "BENZOS           698\n",
              "ECSTASY          693\n",
              "MUSHROOMS        638\n",
              "COCAINE          635\n",
              "AMPHETAMINES     624\n",
              "LSD              506\n",
              "METHADONE        387\n",
              "AMYL             350\n",
              "KETAMINE         325\n",
              "HEROIN           193\n",
              "CRACK            173\n",
              "SEMER              4\n",
              "Name: usage, dtype: int64"
            ]
          },
          "metadata": {
            "tags": []
          },
          "execution_count": 83
        }
      ]
    },
    {
      "cell_type": "code",
      "metadata": {
        "colab": {
          "base_uri": "https://localhost:8080/",
          "height": 592
        },
        "id": "U4wxxzi4AbCW",
        "outputId": "1eb6088d-1969-408c-da1d-a0aa527de86d"
      },
      "source": [
        "#Plotting usage of drugs by the whites\n",
        "ls=list(df.columns)\n",
        "melted_data = pd.melt(df,id_vars='ETHNICITY', value_vars=ls[6:24], var_name='drug', value_name='usage')\n",
        "melted_data = melted_data[melted_data['usage'] == 'user']\n",
        "melted_data = melted_data[melted_data['ETHNICITY'] == 'White']\n",
        "melted_data.groupby(by=['drug'])['usage'].count().plot(kind='pie', figsize=(20,10))"
      ],
      "execution_count": null,
      "outputs": [
        {
          "output_type": "execute_result",
          "data": {
            "text/plain": [
              "<matplotlib.axes._subplots.AxesSubplot at 0x7f825e00bf10>"
            ]
          },
          "metadata": {
            "tags": []
          },
          "execution_count": 84
        },
        {
          "output_type": "display_data",
          "data": {
            "image/png": "[encoded data removed]",
            "text/plain": [
              "<Figure size 1440x720 with 1 Axes>"
            ]
          },
          "metadata": {
            "tags": []
          }
        }
      ]
    },
    {
      "cell_type": "code",
      "metadata": {
        "colab": {
          "base_uri": "https://localhost:8080/"
        },
        "id": "1KWo0R0j39Gc",
        "outputId": "0732e362-d76e-48ab-e6e1-65132c4ca366"
      },
      "source": [
        "#Gender with the most number of drug usage\n",
        "ls=list(df.columns)\n",
        "melted_data = pd.melt(df,id_vars='GENDER', value_vars=ls[6:24], var_name='drug', value_name='usage')\n",
        "melted_data = melted_data[melted_data['usage'] == 'user']\n",
        "melted_data.groupby(by=['GENDER'])['usage'].count().sort_values(ascending=False)"
      ],
      "execution_count": null,
      "outputs": [
        {
          "output_type": "execute_result",
          "data": {
            "text/plain": [
              "GENDER\n",
              "male      8417\n",
              "female    6072\n",
              "Name: usage, dtype: int64"
            ]
          },
          "metadata": {
            "tags": []
          },
          "execution_count": 85
        }
      ]
    },
    {
      "cell_type": "code",
      "metadata": {
        "colab": {
          "base_uri": "https://localhost:8080/"
        },
        "id": "ihxmyFeKAmWm",
        "outputId": "75655924-5de5-49e6-aa33-25526e3e4658"
      },
      "source": [
        "#drug usage among the males\n",
        "ls=list(df.columns)\n",
        "melted_data = pd.melt(df,id_vars='GENDER', value_vars=ls[6:24], var_name='drug', value_name='usage')\n",
        "melted_data = melted_data[melted_data['usage'] == 'user']\n",
        "melted_data = melted_data[melted_data['GENDER'] == 'male']\n",
        "melted_data.groupby(by=['drug'])['usage'].count().sort_values(ascending=False)"
      ],
      "execution_count": null,
      "outputs": [
        {
          "output_type": "execute_result",
          "data": {
            "text/plain": [
              "drug\n",
              "CAFFEINE        928\n",
              "CHOCOLATE       925\n",
              "ALCOHOL         907\n",
              "CANNABIS        738\n",
              "NICOTINE        703\n",
              "LEGAL_HIGHS     525\n",
              "ECSTASY         483\n",
              "MUSHROOMS       463\n",
              "BENZOS          446\n",
              "AMPHETAMINES    445\n",
              "COCAINE         417\n",
              "LSD             392\n",
              "METHADONE       282\n",
              "KETAMINE        244\n",
              "AMYL            236\n",
              "HEROIN          146\n",
              "CRACK           135\n",
              "SEMER             2\n",
              "Name: usage, dtype: int64"
            ]
          },
          "metadata": {
            "tags": []
          },
          "execution_count": 86
        }
      ]
    },
    {
      "cell_type": "code",
      "metadata": {
        "colab": {
          "base_uri": "https://localhost:8080/",
          "height": 592
        },
        "id": "K7KUWZqQA2hc",
        "outputId": "c587af4f-29ed-4ba2-ce37-70e61e55db85"
      },
      "source": [
        "#Plotting drug usage among the males\n",
        "ls=list(df.columns)\n",
        "melted_data = pd.melt(df,id_vars='GENDER', value_vars=ls[6:24], var_name='drug', value_name='usage')\n",
        "melted_data = melted_data[melted_data['usage'] == 'user']\n",
        "melted_data = melted_data[melted_data['GENDER'] == 'male']\n",
        "melted_data.groupby(by=['drug'])['usage'].count().plot(kind='pie', figsize=(20,10))"
      ],
      "execution_count": null,
      "outputs": [
        {
          "output_type": "execute_result",
          "data": {
            "text/plain": [
              "<matplotlib.axes._subplots.AxesSubplot at 0x7f825dfa2210>"
            ]
          },
          "metadata": {
            "tags": []
          },
          "execution_count": 87
        },
        {
          "output_type": "display_data",
          "data": {
            "image/png": "[encoded data removed]",
            "text/plain": [
              "<Figure size 1440x720 with 1 Axes>"
            ]
          },
          "metadata": {
            "tags": []
          }
        }
      ]
    },
    {
      "cell_type": "markdown",
      "metadata": {
        "id": "PogPp9PaS0B6"
      },
      "source": [
        "#8. Recommendations\n",
        "- Being the most used drugs : chocolate, caffeine and alcohol, we’d recommend for people to be cautious while consuming  products that contain these components to prevent addiction.\n",
        "- The government should formulate strategies to sensitize people on chocolate and caffeine consumption because most users might be abusing them unconsciously.\n",
        "\n",
        "- It is our observation that specific categories i.e males, doctorate students, people aged 65+ years, that are predisposed to high pressure levels abuse drugs/substance the most thus the states should convene  public–private partnerships to implement drug abuse sensitization campaigns with more focus directed on these categories to discourage drug use.\n",
        "\n",
        "- Extensive research should be carried out to evaluate the factors that lead to most people aged 65 years and above to consume drugs and solutions found to mitigate the problem.\n",
        "\n",
        "- Drug testing can be a constructive means of helping drug abusers overcome denial of their substance abuse. As a part of intervention, drug testing can be used to help the users achieve and maintain recovery\n"
      ]
    }
  ]
}